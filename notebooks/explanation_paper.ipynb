{
 "cells": [
  {
   "cell_type": "code",
   "execution_count": 1,
   "metadata": {},
   "outputs": [],
   "source": [
    "import cvxpy as cp\n",
    "import math\n",
    "import matplotlib.pyplot as plt \n",
    "from sklearn.datasets import load_digits\n",
    "import numpy as np\n",
    "from sklearn.linear_model import LogisticRegression\n",
    "from sklearn.model_selection import train_test_split\n",
    "import pylab\n",
    "import sys\n",
    "import pandas as pd\n",
    "from sklearn.naive_bayes import BernoulliNB\n",
    "import pickle"
   ]
  },
  {
   "cell_type": "code",
   "execution_count": 2,
   "metadata": {},
   "outputs": [],
   "source": [
    "sys.path.append(\"../code/\")\n",
    "import utils\n",
    "from LR2NB import LR2NB"
   ]
  },
  {
   "cell_type": "code",
   "execution_count": 3,
   "metadata": {},
   "outputs": [],
   "source": [
    "sys.setrecursionlimit(20000)\n",
    "%load_ext autoreload\n",
    "%autoreload 2"
   ]
  },
  {
   "cell_type": "markdown",
   "metadata": {},
   "source": [
    "# Loading MNIST 3v5"
   ]
  },
  {
   "cell_type": "code",
   "execution_count": 4,
   "metadata": {},
   "outputs": [],
   "source": [
    "folder = \"../data/binaryizedMNIST-3-5/\"\n",
    "X_train = pd.read_csv(folder + \"train-3-5-images.txt\").values\n",
    "y_train = pd.read_csv(folder + \"train-3-5-labels.txt\").values.ravel()\n",
    "X_test = pd.read_csv(folder + \"test-3-5-images.txt\").values\n",
    "y_test = pd.read_csv(folder + \"test-3-5-labels.txt\").values.ravel()"
   ]
  },
  {
   "cell_type": "code",
   "execution_count": 5,
   "metadata": {},
   "outputs": [
    {
     "data": {
      "text/plain": [
       "<matplotlib.image.AxesImage at 0x7f1412ee90d0>"
      ]
     },
     "execution_count": 5,
     "metadata": {},
     "output_type": "execute_result"
    },
    {
     "data": {
      "text/plain": [
       "<Figure size 432x288 with 0 Axes>"
      ]
     },
     "metadata": {},
     "output_type": "display_data"
    },
    {
     "data": {
      "image/png": "[encoded data removed]",
      "text/plain": [
       "<Figure size 288x288 with 1 Axes>"
      ]
     },
     "metadata": {
      "needs_background": "light"
     },
     "output_type": "display_data"
    }
   ],
   "source": [
    "plt.gray()\n",
    "plt.matshow(X_train[0].reshape( (28,28) )) "
   ]
  },
  {
   "cell_type": "markdown",
   "metadata": {},
   "source": [
    "\n",
    "### Load Pretrained LR and NaCL"
   ]
  },
  {
   "cell_type": "code",
   "execution_count": 6,
   "metadata": {},
   "outputs": [
    {
     "name": "stdout",
     "output_type": "stream",
     "text": [
      "Relaxed sums are tight (EPS = 1e-06): True\n",
      "NaCL Accuray: 0.965281430826\n"
     ]
    }
   ],
   "source": [
    "clf = utils.load(\"../pretrained/lr_10.pickle2\")\n",
    "W = np.hstack((clf.intercept_[:,None], clf.coef_))[0]\n",
    "nacl = utils.load('../pretrained/lr2nb_10.pickle2')\n",
    "print(\"Relaxed sums are tight (EPS = {}): {}\".format(1e-6, nacl.__validate_relaxed_sums__(1e-6)))\n",
    "print(\"NaCL Accuray: {}\".format( np.average(nacl.classify(X_test) == y_test)) )"
   ]
  },
  {
   "cell_type": "markdown",
   "metadata": {},
   "source": [
    "# Sufficient Explanations"
   ]
  },
  {
   "cell_type": "code",
   "execution_count": 7,
   "metadata": {},
   "outputs": [],
   "source": [
    "def give_values(lr2nb, idx = 0):\n",
    "\n",
    "    Values = []\n",
    "    EPS = 1e-10\n",
    "    Pval = np.log( lr2nb.p.value / lr2nb.p_.value + EPS)\n",
    "    for i in range(X_test.shape[1]):\n",
    "        val = 0.0\n",
    "        if X_test[idx][i] == 1:\n",
    "            val += np.log(lr2nb.A[i].value + EPS)\n",
    "            val -= np.log(lr2nb.B[i].value + EPS)\n",
    "        else:\n",
    "            val += np.log(lr2nb.A_[i].value + EPS)\n",
    "            val -= np.log(lr2nb.B_[i].value + EPS)\n",
    "\n",
    "        Values.append( (val, i) )\n",
    "    \n",
    "    return Pval, Values\n",
    "\n",
    "def give_AB(Pval, Values, EPS = 1e-8):\n",
    "    cur = np.sum([Values[i][0] for i in range(len(Values)) ]) + Pval\n",
    "    \n",
    "    A = []\n",
    "    B = []\n",
    "    Z = [] # Used for features below EPS threshold, treated as zero\n",
    "\n",
    "    for i in range(len(Values)):\n",
    "        if np.abs(Values[i][0]) < EPS:\n",
    "            Z.append(Values[i])\n",
    "        elif (cur < 0 and Values[i][0] < 0) or (cur > 0 and Values[i][0] > 0):\n",
    "            A.append(Values[i])\n",
    "        else:\n",
    "            B.append(Values[i])\n",
    "\n",
    "\n",
    "    B = sorted(B, key = lambda x: np.abs(x[0]))\n",
    "    A = sorted(A, key = lambda x: np.abs(x[0]))\n",
    "    \n",
    "    return A,B, Z\n",
    "\n",
    "def give_explanations(A, B, Z, Pval, Values, idx=0):\n",
    "    curPval = np.sum([Values[i][0] for i in range(len(Values)) ]) + Pval\n",
    "    X_copy = np.array(X_test[idx])\n",
    "    X_copy_2 = np.array(X_test[idx])\n",
    "    mask = np.zeros(X_copy.shape)\n",
    "    mask2 = np.zeros(X_copy.shape)\n",
    "\n",
    "    for i in range(len(Z)):\n",
    "        X_copy[Z[i][1]] = -1\n",
    "        X_copy_2[Z[i][1]] = -1\n",
    "        mask[Z[i][1]] = 1\n",
    "        mask2[Z[i][1]] = 1\n",
    "    \n",
    "    for i in range(len(A)):\n",
    "        if np.sign(curPval - A[i][0]) == np.sign(curPval):    \n",
    "            curPval -= A[i][0]\n",
    "            X_copy[A[i][1]] = -1\n",
    "            X_copy_2[A[i][1]] = -1\n",
    "            mask[A[i][1]] = 1\n",
    "            mask2[A[i][1]] = 1\n",
    "        else:\n",
    "            X_copy_2[A[i][1]] = -1\n",
    "            mask2[A[i][1]] = 1\n",
    "            break\n",
    "            \n",
    "    return X_copy, mask, X_copy_2, mask2\n",
    "\n",
    "def plot_exp(X_copy, mask1, X_copy_2, mask2, A, B, Z, W, curPval, lr2nb, save_name = 'explanation',idx = 0 ):\n",
    "    plt.gray()\n",
    "    plt.figure(figsize=(4,1))\n",
    "    fig, (ax1, ax2, ax3, ax4) = plt.subplots(1,4)\n",
    "\n",
    "    plt.tight_layout()\n",
    "    \n",
    "    ax1.set_axis_off()\n",
    "    ax2.set_axis_off()\n",
    "    ax3.set_axis_off()\n",
    "    ax4.set_axis_off()\n",
    "    \n",
    "    X_pos = np.array(X_test[idx])\n",
    "    mask_p = np.zeros(X_pos.shape)\n",
    "    for i in range(len(A)):\n",
    "        if X_pos[A[i][1]] == 0:\n",
    "            X_pos[A[i][1]] = -1 # to make it stay black\n",
    "    for i in range(len(B)):\n",
    "        X_pos[B[i][1]] = 0 # to make it gray\n",
    "        mask_p[B[i][1]] = 1\n",
    "    for i in range(len(Z)):\n",
    "        X_pos[Z[i][1]] = 0 # to make it gray\n",
    "        mask_p[Z[i][1]] = 1\n",
    "              \n",
    "    explaination = np.array(mask1)\n",
    "    for i in range(len(B)):\n",
    "        explaination[B[i][1]] = 1\n",
    "    \n",
    "    X_ours = np.array(X_test[idx])\n",
    "    for i in range(len(explaination)):\n",
    "        if explaination[i] == 0: \n",
    "            if X_ours[i] == 0:\n",
    "                X_ours[i] = -1\n",
    "        # if we removed it\n",
    "        else:\n",
    "            X_ours[i] = 0\n",
    "        \n",
    "    feature_to_choose = np.sum(X_ours != 0)\n",
    "    \n",
    "    W2 = [ (W[i] * (-1 if X_test[idx][i-1] == 0 else 1), i-1) for i in range(1,len(W)) ]\n",
    "    W2 = sorted(W2, key = lambda x: x[0], reverse = (curPval > 0) )\n",
    "\n",
    "    X_w = np.copy(X_test[idx])\n",
    "    mask_w = np.zeros(X_w.shape)\n",
    "    for i in range(min(feature_to_choose, len(W2))):\n",
    "        if X_w[W2[i][1]] == 0:\n",
    "            X_w[W2[i][1]] = -1 # to make it stay black  \n",
    "    for i in range(feature_to_choose, len(W2)):\n",
    "        X_w[W2[i][1]] = 0\n",
    "        mask_w[W2[i][1]] = 1\n",
    "    \n",
    "    ax1.imshow(X_test[idx].reshape( (28,28) )) \n",
    "    ax2.imshow(X_pos.reshape( (28,28) )) \n",
    "    ax3.imshow(X_w.reshape((28,28)))    \n",
    "    ax4.imshow(X_ours.reshape( (28,28) )) \n",
    "    \n",
    "    no_missing = np.zeros(X_test[idx].shape)\n",
    "    odds = lr2nb.odd([X_test[idx], X_test[idx], X_test[idx], X_test[idx]], missing = [mask_p, explaination, no_missing, mask_w])\n",
    "    \n",
    "    plt.savefig('{}.pdf'.format(save_name), bbox_inches='tight')\n",
    "    return plt\n",
    "\n",
    "def sigmoid(x):  \n",
    "    return 1/ (1 + np.exp(-x) )\n",
    "    \n",
    "def do_it(a, idx = 0, save = \"explanation\", EPS = 1e-8):\n",
    "    Pval, Values = give_values(a, idx = idx)    \n",
    "    curPval = np.sum([Values[i][0] for i in range(len(Values)) ]) + Pval\n",
    "    A, B, Z = give_AB(Pval, Values, EPS = EPS)\n",
    "    X1, mask1, X2, mask2 = give_explanations(A,B, Z, Pval, Values, idx = idx)\n",
    "    plot_exp(X1, mask1, X2, mask2, A, B, Z, W, curPval, a, save_name = save, idx = idx)"
   ]
  },
  {
   "cell_type": "code",
   "execution_count": 8,
   "metadata": {},
   "outputs": [],
   "source": [
    "# Finding miss classified examples\n",
    "missClass = clf.predict(X_test) != y_test\n",
    "missIdx = []\n",
    "for i in range(missClass.shape[0]):\n",
    "    if missClass[i]:\n",
    "        missIdx.append(i)"
   ]
  },
  {
   "cell_type": "markdown",
   "metadata": {},
   "source": [
    "### Few examples"
   ]
  },
  {
   "cell_type": "code",
   "execution_count": 9,
   "metadata": {},
   "outputs": [
    {
     "data": {
      "text/plain": [
       "<Figure size 432x288 with 0 Axes>"
      ]
     },
     "metadata": {},
     "output_type": "display_data"
    },
    {
     "data": {
      "text/plain": [
       "<Figure size 288x72 with 0 Axes>"
      ]
     },
     "metadata": {},
     "output_type": "display_data"
    },
    {
     "data": {
      "image/png": "[encoded data removed]",
      "text/plain": [
       "<Figure size 432x288 with 4 Axes>"
      ]
     },
     "metadata": {
      "needs_background": "light"
     },
     "output_type": "display_data"
    }
   ],
   "source": [
    "idx = missIdx[7]\n",
    "do_it(nacl, idx, save=\"explanation_miss_3\", EPS=1e-7)"
   ]
  },
  {
   "cell_type": "code",
   "execution_count": 10,
   "metadata": {},
   "outputs": [
    {
     "data": {
      "text/plain": [
       "<Figure size 432x288 with 0 Axes>"
      ]
     },
     "metadata": {},
     "output_type": "display_data"
    },
    {
     "data": {
      "text/plain": [
       "<Figure size 288x72 with 0 Axes>"
      ]
     },
     "metadata": {},
     "output_type": "display_data"
    },
    {
     "data": {
      "image/png": "[encoded data removed]",
      "text/plain": [
       "<Figure size 432x288 with 4 Axes>"
      ]
     },
     "metadata": {
      "needs_background": "light"
     },
     "output_type": "display_data"
    }
   ],
   "source": [
    "idx = missIdx[20]\n",
    "do_it(nacl, idx, save=\"explanation_miss_3\", EPS=1e-7)"
   ]
  },
  {
   "cell_type": "code",
   "execution_count": 11,
   "metadata": {},
   "outputs": [],
   "source": [
    "missIdx = sorted(missIdx, key= lambda x: nacl.odd(X_test[x:x+1], prob=True)[0])"
   ]
  },
  {
   "cell_type": "code",
   "execution_count": 12,
   "metadata": {},
   "outputs": [
    {
     "data": {
      "text/plain": [
       "<Figure size 432x288 with 0 Axes>"
      ]
     },
     "metadata": {},
     "output_type": "display_data"
    },
    {
     "data": {
      "text/plain": [
       "<Figure size 288x72 with 0 Axes>"
      ]
     },
     "metadata": {},
     "output_type": "display_data"
    },
    {
     "data": {
      "image/png": "[encoded data removed]",
      "text/plain": [
       "<Figure size 432x288 with 4 Axes>"
      ]
     },
     "metadata": {
      "needs_background": "light"
     },
     "output_type": "display_data"
    }
   ],
   "source": [
    "idx = missIdx[-17]\n",
    "do_it(nacl, idx, save=\"explanation_miss_5\", EPS=1e-7)"
   ]
  },
  {
   "cell_type": "code",
   "execution_count": 13,
   "metadata": {},
   "outputs": [
    {
     "data": {
      "text/plain": [
       "<Figure size 432x288 with 0 Axes>"
      ]
     },
     "metadata": {},
     "output_type": "display_data"
    },
    {
     "data": {
      "text/plain": [
       "<Figure size 288x72 with 0 Axes>"
      ]
     },
     "metadata": {},
     "output_type": "display_data"
    },
    {
     "data": {
      "image/png": "[encoded data removed]",
      "text/plain": [
       "<Figure size 432x288 with 4 Axes>"
      ]
     },
     "metadata": {
      "needs_background": "light"
     },
     "output_type": "display_data"
    }
   ],
   "source": [
    "do_it(nacl, 0, save=\"explanation_5\", EPS=1e-7)"
   ]
  },
  {
   "cell_type": "code",
   "execution_count": 14,
   "metadata": {},
   "outputs": [
    {
     "data": {
      "text/plain": [
       "<Figure size 432x288 with 0 Axes>"
      ]
     },
     "metadata": {},
     "output_type": "display_data"
    },
    {
     "data": {
      "text/plain": [
       "<Figure size 288x72 with 0 Axes>"
      ]
     },
     "metadata": {},
     "output_type": "display_data"
    },
    {
     "data": {
      "image/png": "[encoded data removed]",
      "text/plain": [
       "<Figure size 432x288 with 4 Axes>"
      ]
     },
     "metadata": {
      "needs_background": "light"
     },
     "output_type": "display_data"
    }
   ],
   "source": [
    "do_it(nacl, 3, save=\"explanation_3\", EPS=1e-7)"
   ]
  }
 ],
 "metadata": {
  "kernelspec": {
   "display_name": "py2",
   "language": "python",
   "name": "py2"
  },
  "language_info": {
   "codemirror_mode": {
    "name": "ipython",
    "version": 2
   },
   "file_extension": ".py",
   "mimetype": "text/x-python",
   "name": "python",
   "nbconvert_exporter": "python",
   "pygments_lexer": "ipython2",
   "version": "2.7.15rc1"
  }
 },
 "nbformat": 4,
 "nbformat_minor": 2
}
