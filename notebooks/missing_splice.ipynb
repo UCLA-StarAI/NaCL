{
 "cells": [
  {
   "cell_type": "code",
   "execution_count": 1,
   "metadata": {},
   "outputs": [
    {
     "name": "stderr",
     "output_type": "stream",
     "text": [
      "Using TensorFlow backend.\n"
     ]
    }
   ],
   "source": [
    "import math\n",
    "import matplotlib.pyplot as plt \n",
    "from sklearn.datasets import load_digits\n",
    "import numpy as np\n",
    "from sklearn.linear_model import LogisticRegression\n",
    "from sklearn.model_selection import train_test_split\n",
    "import pylab\n",
    "import sys\n",
    "import utils\n",
    "import keras\n",
    "from sklearn.naive_bayes import BernoulliNB, MultinomialNB"
   ]
  },
  {
   "cell_type": "code",
   "execution_count": 2,
   "metadata": {},
   "outputs": [],
   "source": [
    "import LR2NBK_GP"
   ]
  },
  {
   "cell_type": "code",
   "execution_count": 3,
   "metadata": {},
   "outputs": [],
   "source": [
    "%load_ext autoreload\n",
    "%autoreload 2"
   ]
  },
  {
   "cell_type": "code",
   "execution_count": 4,
   "metadata": {},
   "outputs": [],
   "source": [
    "sys.setrecursionlimit(2000000)"
   ]
  },
  {
   "cell_type": "markdown",
   "metadata": {},
   "source": [
    "# With Binary Data"
   ]
  },
  {
   "cell_type": "code",
   "execution_count": 5,
   "metadata": {},
   "outputs": [],
   "source": [
    "X_train, y_train, X_test, y_test = utils.load_dataset(\"splice\", \"splice\")"
   ]
  },
  {
   "cell_type": "code",
   "execution_count": 6,
   "metadata": {},
   "outputs": [
    {
     "data": {
      "text/plain": [
       "(2539, 240)"
      ]
     },
     "execution_count": 6,
     "metadata": {},
     "output_type": "execute_result"
    }
   ],
   "source": [
    "X_train.shape"
   ]
  },
  {
   "cell_type": "code",
   "execution_count": 7,
   "metadata": {},
   "outputs": [
    {
     "data": {
      "text/plain": [
       "array([0, 1, 2])"
      ]
     },
     "execution_count": 7,
     "metadata": {},
     "output_type": "execute_result"
    }
   ],
   "source": [
    "np.unique(y_train)"
   ]
  },
  {
   "cell_type": "code",
   "execution_count": 8,
   "metadata": {},
   "outputs": [
    {
     "name": "stdout",
     "output_type": "stream",
     "text": [
      "0.9614021268215833\n",
      "0.9652996845425867\n",
      "CPU times: user 58.8 ms, sys: 95.3 ms, total: 154 ms\n",
      "Wall time: 46.7 ms\n"
     ]
    }
   ],
   "source": [
    "%%time\n",
    "from sklearn.naive_bayes import BernoulliNB\n",
    "NB = BernoulliNB().fit(X_train, y_train)\n",
    "print(np.average(NB.predict(X_train) == y_train))\n",
    "print(np.average(NB.predict(X_test) == y_test))"
   ]
  },
  {
   "cell_type": "code",
   "execution_count": 9,
   "metadata": {},
   "outputs": [
    {
     "name": "stderr",
     "output_type": "stream",
     "text": [
      "[Parallel(n_jobs=6)]: Using backend LokyBackend with 6 concurrent workers.\n",
      "[Parallel(n_jobs=6)]: Done   1 out of   1 | elapsed:    1.4s finished\n"
     ]
    },
    {
     "data": {
      "text/plain": [
       "(0.9652996845425867, 0.9810949192595511)"
      ]
     },
     "execution_count": 9,
     "metadata": {},
     "output_type": "execute_result"
    }
   ],
   "source": [
    "clf = LogisticRegression(solver='lbfgs',\n",
    "    C = 0.1,\n",
    "    verbose=True,\n",
    "    multi_class='multinomial',\n",
    "    max_iter=2000, n_jobs=6).fit(X_train, y_train)\n",
    "\n",
    "np.average(clf.predict(X_test) == y_test), np.average(clf.predict(X_train) == y_train)"
   ]
  },
  {
   "cell_type": "code",
   "execution_count": 10,
   "metadata": {},
   "outputs": [],
   "source": [
    "W = np.hstack((clf.intercept_[:,None], clf.coef_))"
   ]
  },
  {
   "cell_type": "code",
   "execution_count": 11,
   "metadata": {},
   "outputs": [
    {
     "name": "stdout",
     "output_type": "stream",
     "text": [
      "Using solver 'mosek_cli'\n",
      "Solving for 1443 variables.\n",
      "Solving took 0.599 seconds.\n",
      "CPU times: user 14.7 s, sys: 120 ms, total: 14.8 s\n",
      "Wall time: 15.4 s\n"
     ]
    }
   ],
   "source": [
    "%%time\n",
    "a = LR2NBK_GP.LR2NBK(W)\n",
    "a.setObj(X_train, y_train, divider = 1, c = 1e-10)\n",
    "a.solve(solver = 'mosek_cli', verbose=1)"
   ]
  },
  {
   "cell_type": "code",
   "execution_count": 12,
   "metadata": {},
   "outputs": [
    {
     "name": "stdout",
     "output_type": "stream",
     "text": [
      "(0.9652996845425867, 0.9652996845425867)\n",
      "(0.9810949192595511, 0.9810949192595511)\n",
      "CPU times: user 172 ms, sys: 209 ms, total: 381 ms\n",
      "Wall time: 80 ms\n"
     ]
    }
   ],
   "source": [
    "%%time\n",
    "print( np.average(np.mean(a.classify(X_test) == y_test)), np.average(clf.predict(X_test) == y_test) )\n",
    "print( np.average(np.mean(a.classify(X_train) == y_train)), np.average(clf.predict(X_train) == y_train) )"
   ]
  },
  {
   "cell_type": "markdown",
   "metadata": {},
   "source": [
    "# Missing Data"
   ]
  },
  {
   "cell_type": "code",
   "execution_count": 13,
   "metadata": {},
   "outputs": [
    {
     "data": {
      "text/plain": [
       "(634, 240)"
      ]
     },
     "execution_count": 13,
     "metadata": {},
     "output_type": "execute_result"
    }
   ],
   "source": [
    "X_test.shape"
   ]
  },
  {
   "cell_type": "code",
   "execution_count": 14,
   "metadata": {},
   "outputs": [
    {
     "name": "stdout",
     "output_type": "stream",
     "text": [
      "Using following function: \n",
      "<function conditional_likelihood_k at 0x7f2819ce9398>\n",
      "Possible features to remove: 60\n",
      "K = 0\n",
      "\t R = 0\n",
      "K = 2\n",
      "\t R = 0\n",
      "K = 4\n",
      "\t R = 0\n",
      "K = 6\n",
      "\t R = 0\n",
      "K = 8\n",
      "\t R = 0\n",
      "K = 10\n",
      "\t R = 0\n",
      "K = 12\n",
      "\t R = 0\n",
      "K = 14\n",
      "\t R = 0\n",
      "K = 16\n",
      "\t R = 0\n",
      "K = 18\n",
      "\t R = 0\n",
      "K = 20\n",
      "\t R = 0\n",
      "K = 22\n",
      "\t R = 0\n",
      "K = 24\n",
      "\t R = 0\n",
      "K = 26\n",
      "\t R = 0\n",
      "K = 28\n",
      "\t R = 0\n",
      "K = 30\n",
      "\t R = 0\n",
      "K = 32\n",
      "\t R = 0\n",
      "K = 34\n",
      "\t R = 0\n",
      "K = 36\n",
      "\t R = 0\n",
      "K = 38\n",
      "\t R = 0\n",
      "K = 40\n",
      "\t R = 0\n",
      "K = 42\n",
      "\t R = 0\n",
      "K = 44\n",
      "\t R = 0\n",
      "K = 46\n",
      "\t R = 0\n",
      "K = 48\n",
      "\t R = 0\n",
      "K = 50\n",
      "\t R = 0\n",
      "K = 52\n",
      "\t R = 0\n",
      "K = 54\n",
      "\t R = 0\n",
      "K = 56\n",
      "\t R = 0\n",
      "K = 58\n",
      "\t R = 0\n",
      "CPU times: user 12.7 s, sys: 12.3 s, total: 25 s\n",
      "Wall time: 6.97 s\n"
     ]
    }
   ],
   "source": [
    "%%time\n",
    "setting = {\n",
    "    \"repeat\": 1,\n",
    "    \"k\": [i for i in range(0, 60, 2)],\n",
    "    \"prob\" : True,\n",
    "    \"function\": utils.conditional_likelihood_k,\n",
    "    \"discreteFeatures\": 4\n",
    "}\n",
    "data_a2 = utils.run_experiment_k_paper(X_test, y_test, clf, NB, a, setting)"
   ]
  },
  {
   "cell_type": "code",
   "execution_count": 15,
   "metadata": {},
   "outputs": [
    {
     "data": {
      "text/plain": [
       "<module 'matplotlib.pyplot' from '/home/pasha/Desktop/ucla-lab/missing/gpkit2/lib/python2.7/site-packages/matplotlib/pyplot.pyc'>"
      ]
     },
     "execution_count": 15,
     "metadata": {},
     "output_type": "execute_result"
    },
    {
     "data": {
      "text/plain": [
       "<Figure size 576x432 with 0 Axes>"
      ]
     },
     "metadata": {},
     "output_type": "display_data"
    },
    {
     "name": "stderr",
     "output_type": "stream",
     "text": [
      "/home/pasha/Desktop/ucla-lab/missing/gpkit2/lib/python2.7/site-packages/matplotlib/figure.py:2299: UserWarning: This figure includes Axes that are not compatible with tight_layout, so results might be incorrect.\n",
      "  warnings.warn(\"This figure includes Axes that are not compatible \"\n"
     ]
    },
    {
     "data": {
      "image/png": "[encoded data removed]",
      "text/plain": [
       "<Figure size 576x324 with 1 Axes>"
      ]
     },
     "metadata": {
      "needs_background": "light"
     },
     "output_type": "display_data"
    }
   ],
   "source": [
    "setting = {\n",
    "    \"show\": [\"min\", \"mean\", \"median\", \"ours\"],\n",
    "    \"saveAs\": \"splice_cross.eps\",\n",
    "    \"title\": \"Splice\",\n",
    "    \"Ylabel\": \"Cross Entropy\"\n",
    "}\n",
    "utils.plot_results_paper(data_a2, setting)"
   ]
  },
  {
   "cell_type": "code",
   "execution_count": 16,
   "metadata": {},
   "outputs": [
    {
     "name": "stdout",
     "output_type": "stream",
     "text": [
      "Using following function: \n",
      "<function <lambda> at 0x7f27f5f65488>\n",
      "Possible features to remove: 60\n",
      "K = 0\n",
      "\t R = 0\n",
      "K = 2\n",
      "\t R = 0\n",
      "K = 4\n",
      "\t R = 0\n",
      "K = 6\n",
      "\t R = 0\n",
      "K = 8\n",
      "\t R = 0\n",
      "K = 10\n",
      "\t R = 0\n",
      "K = 12\n",
      "\t R = 0\n",
      "K = 14\n",
      "\t R = 0\n",
      "K = 16\n",
      "\t R = 0\n",
      "K = 18\n",
      "\t R = 0\n",
      "K = 20\n",
      "\t R = 0\n",
      "K = 22\n",
      "\t R = 0\n",
      "K = 24\n",
      "\t R = 0\n",
      "K = 26\n",
      "\t R = 0\n",
      "K = 28\n",
      "\t R = 0\n",
      "K = 30\n",
      "\t R = 0\n",
      "K = 32\n",
      "\t R = 0\n",
      "K = 34\n",
      "\t R = 0\n",
      "K = 36\n",
      "\t R = 0\n",
      "K = 38\n",
      "\t R = 0\n",
      "K = 40\n",
      "\t R = 0\n",
      "K = 42\n",
      "\t R = 0\n",
      "K = 44\n",
      "\t R = 0\n",
      "K = 46\n",
      "\t R = 0\n",
      "K = 48\n",
      "\t R = 0\n"
     ]
    },
    {
     "name": "stderr",
     "output_type": "stream",
     "text": [
      "/home/pasha/Desktop/ucla-lab/missing/gpkit2/lib/python2.7/site-packages/sklearn/metrics/classification.py:1143: UndefinedMetricWarning: F-score is ill-defined and being set to 0.0 in labels with no predicted samples.\n",
      "  'precision', 'predicted', average, warn_for)\n"
     ]
    },
    {
     "name": "stdout",
     "output_type": "stream",
     "text": [
      "K = 50\n",
      "\t R = 0\n",
      "K = 52\n",
      "\t R = 0\n",
      "K = 54\n",
      "\t R = 0\n",
      "K = 56\n",
      "\t R = 0\n",
      "K = 58\n",
      "\t R = 0\n",
      "K = 60\n",
      "\t R = 0\n",
      "K = 62\n",
      "Early stop: Only had 60 features possible to remove\n",
      "CPU times: user 43.8 s, sys: 41 s, total: 1min 24s\n",
      "Wall time: 24 s\n"
     ]
    }
   ],
   "source": [
    "%%time\n",
    "from sklearn.metrics import f1_score \n",
    "\n",
    "accuracy = lambda x,y: np.mean(x == y)\n",
    "f1 = lambda x,y: f1_score(x,y.flatten(), average = \"weighted\")\n",
    "\n",
    "setting = {\n",
    "    \"repeat\": 3,\n",
    "    \"k\": [i for i in range(0, 240, 2)],\n",
    "    \"prob\" : False,\n",
    "    \"function\": f1,\n",
    "    \"discreteFeatures\": 4\n",
    "}\n",
    "data_a3 = utils.run_experiment_k_paper(X_test, y_test, clf, NB, a, setting)"
   ]
  },
  {
   "cell_type": "code",
   "execution_count": 17,
   "metadata": {},
   "outputs": [
    {
     "data": {
      "text/plain": [
       "<module 'matplotlib.pyplot' from '/home/pasha/Desktop/ucla-lab/missing/gpkit2/lib/python2.7/site-packages/matplotlib/pyplot.pyc'>"
      ]
     },
     "execution_count": 17,
     "metadata": {},
     "output_type": "execute_result"
    },
    {
     "data": {
      "text/plain": [
       "<Figure size 576x432 with 0 Axes>"
      ]
     },
     "metadata": {},
     "output_type": "display_data"
    },
    {
     "data": {
      "image/png": "[encoded data removed]",
      "text/plain": [
       "<Figure size 576x324 with 1 Axes>"
      ]
     },
     "metadata": {
      "needs_background": "light"
     },
     "output_type": "display_data"
    }
   ],
   "source": [
    "setting = {\n",
    "    \"show\": [\"nb\", \"min\", \"ours\", \"mean\", \"median\"],\n",
    "    \"saveAs\": \"splice_accuracy.eps\",\n",
    "    \"title\": \"Splice\",\n",
    "    \"Ylabel\": \"F1\"\n",
    "}\n",
    "utils.plot_results_paper(data_a3, setting)"
   ]
  },
  {
   "cell_type": "code",
   "execution_count": 18,
   "metadata": {},
   "outputs": [],
   "source": [
    "utils.save(\"data_splice_result_cross.pickle\", data_a2)\n",
    "utils.save(\"data_splice_result_accuracy.pickle\", data_a3)"
   ]
  },
  {
   "cell_type": "markdown",
   "metadata": {},
   "source": [
    "# Table"
   ]
  },
  {
   "cell_type": "code",
   "execution_count": 19,
   "metadata": {},
   "outputs": [
    {
     "name": "stdout",
     "output_type": "stream",
     "text": [
      "Using following function: \n",
      "<function <lambda> at 0x7f2805427488>\n",
      "Possible features to remove: 60\n",
      "K = 0\n",
      "\t R = 0\n",
      "\t R = 10\n",
      "\t R = 20\n",
      "K = 12\n",
      "\t R = 0\n",
      "\t R = 10\n",
      "\t R = 20\n",
      "K = 24\n",
      "\t R = 0\n",
      "\t R = 10\n",
      "\t R = 20\n",
      "K = 36\n",
      "\t R = 0\n",
      "\t R = 10\n",
      "\t R = 20\n",
      "K = 48\n",
      "\t R = 0\n",
      "\t R = 10\n",
      "\t R = 20\n",
      "K = 60\n",
      "\t R = 0\n",
      "\t R = 10\n",
      "\t R = 20\n",
      "K = 72\n",
      "Early stop: Only had 60 features possible to remove\n",
      "CPU times: user 1min 23s, sys: 1min 16s, total: 2min 40s\n",
      "Wall time: 42.4 s\n"
     ]
    }
   ],
   "source": [
    "%%time\n",
    "from sklearn.metrics import f1_score \n",
    "\n",
    "accuracy = lambda x,y: np.mean(x == y)\n",
    "f1 = lambda x,y: f1_score(x,y.flatten(), average = \"weighted\")\n",
    "\n",
    "N = W.shape[1]\n",
    "setting = {\n",
    "    \"repeat\": 100,\n",
    "    \"k\": [i for i in range(0, N+1, int(0.2/4*N))],\n",
    "    \"prob\" : False,\n",
    "    \"function\": f1, #utils.conditional_likelihood_k,\n",
    "    \"discreteFeatures\": 4\n",
    "}\n",
    "data_for_table = utils.run_experiment_k_paper(X_test, y_test, clf, NB, a, setting)"
   ]
  },
  {
   "cell_type": "code",
   "execution_count": 24,
   "metadata": {},
   "outputs": [
    {
     "name": "stdout",
     "output_type": "stream",
     "text": [
      "('min', 20, 86.88872901794151, 1.1196057822124665)\n",
      "('min', 40, 69.82428568709808, 1.7845485391165032)\n",
      "('min', 60, 49.15344527088307, 2.0044991206445726)\n",
      "('min', 80, 38.77915143580157, 0.6732263116660888)\n",
      "('max', 20, 86.87214602965703, 1.1283654855722818)\n",
      "('max', 40, 69.7743254855895, 1.7989837053021938)\n",
      "('max', 60, 49.077839741020625, 1.981737771413272)\n",
      "('max', 80, 38.767418274415455, 0.690010127408485)\n",
      "('mean', 20, 91.82140368209201, 0.9955245697825975)\n",
      "('mean', 40, 82.30824214880091, 1.398264453816046)\n",
      "('mean', 60, 66.24537383190976, 1.8760453646580086)\n",
      "('mean', 80, 45.738014779143995, 1.2045303308801798)\n",
      "('median', 20, 89.41115846695213, 0.914799150977075)\n",
      "('median', 40, 77.58591754517829, 1.6459577351997834)\n",
      "('median', 60, 59.450523572177715, 2.504463212338077)\n",
      "('median', 80, 42.51776841020183, 1.071837503467449)\n",
      "('ours', 20, 93.33052186380898, 0.8880598834651742)\n",
      "('ours', 40, 87.19708148538385, 1.2865804571987292)\n",
      "('ours', 60, 76.61800076506688, 1.5112755944303422)\n",
      "('ours', 80, 59.11766460753406, 1.3326137965429807)\n",
      "\n",
      "86.9 & 69.8 & 49.2 & 38.8 & \n",
      "86.9 & 69.8 & 49.1 & 38.8 & \n",
      "91.8 & 82.3 & 66.2 & 45.7 & \n",
      "89.4 & 77.6 & 59.5 & 42.5 & \n",
      "\\textbf{93.3} & \\textbf{87.2} & \\textbf{76.6} & \\textbf{59.1} & \n"
     ]
    }
   ],
   "source": [
    "row = []\n",
    "for method in [\"min\", \"max\", \"mean\", \"median\", \"ours\"]:\n",
    "    temp = []\n",
    "    for k in range(1, 5):\n",
    "        m = np.mean(100*data_for_table[method][k])\n",
    "        s = np.std(100*data_for_table[method][k])\n",
    "        temp.append(np.round(m, 1))\n",
    "        print(method, k*20, m, s)\n",
    "        \n",
    "    row.append(temp)\n",
    "\n",
    "row = np.array(row)  \n",
    "bold = np.argmax(row, axis=0)\n",
    "print(\"\")\n",
    "for i in range(len(row)):\n",
    "    line = \"\"\n",
    "    for j in range(len(row[i])):\n",
    "        if bold[j] == i or row[i][j] == row[bold[j]][j]:\n",
    "            line += \"\\\\textbf{\" + str(row[i][j]) + \"}\"\n",
    "        else:\n",
    "            line += str(row[i][j])\n",
    "        \n",
    "        line += \" & \"\n",
    "    print(line)\n",
    "    "
   ]
  },
  {
   "cell_type": "code",
   "execution_count": null,
   "metadata": {},
   "outputs": [],
   "source": []
  }
 ],
 "metadata": {
  "kernelspec": {
   "display_name": "py2",
   "language": "python",
   "name": "py2"
  },
  "language_info": {
   "codemirror_mode": {
    "name": "ipython",
    "version": 2
   },
   "file_extension": ".py",
   "mimetype": "text/x-python",
   "name": "python",
   "nbconvert_exporter": "python",
   "pygments_lexer": "ipython2",
   "version": "2.7.15rc1"
  }
 },
 "nbformat": 4,
 "nbformat_minor": 2
}
