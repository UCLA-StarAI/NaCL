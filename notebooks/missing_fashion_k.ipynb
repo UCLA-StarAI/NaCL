{
 "cells": [
  {
   "cell_type": "code",
   "execution_count": 1,
   "metadata": {},
   "outputs": [
    {
     "name": "stderr",
     "output_type": "stream",
     "text": [
      "Using TensorFlow backend.\n"
     ]
    }
   ],
   "source": [
    "import math\n",
    "import matplotlib.pyplot as plt \n",
    "from sklearn.datasets import load_digits\n",
    "import numpy as np\n",
    "from sklearn.linear_model import LogisticRegression\n",
    "from sklearn.model_selection import train_test_split\n",
    "import pylab\n",
    "import sys\n",
    "import keras\n",
    "from sklearn.naive_bayes import BernoulliNB, MultinomialNB"
   ]
  },
  {
   "cell_type": "code",
   "execution_count": 2,
   "metadata": {},
   "outputs": [],
   "source": [
    "sys.path.append(\"../code/\")\n",
    "\n",
    "import utils\n",
    "import LR2NBK_GP"
   ]
  },
  {
   "cell_type": "code",
   "execution_count": 3,
   "metadata": {},
   "outputs": [],
   "source": [
    "%load_ext autoreload\n",
    "%autoreload 2"
   ]
  },
  {
   "cell_type": "markdown",
   "metadata": {},
   "source": [
    "# Loading and Binarizing Features"
   ]
  },
  {
   "cell_type": "code",
   "execution_count": 4,
   "metadata": {},
   "outputs": [],
   "source": [
    "(X_train, y_train), (X_test, y_test) = keras.datasets.fashion_mnist.load_data()\n",
    "\n",
    "X_train = np.copy(X_train)\n",
    "X_test  = np.copy(X_test)"
   ]
  },
  {
   "cell_type": "code",
   "execution_count": 5,
   "metadata": {},
   "outputs": [],
   "source": [
    "train_mean = np.mean(X_train, axis=0)\n",
    "train_std  = np.std(X_train, axis=0)\n",
    "\n",
    "trainZ = X_train <= train_mean + 0.05 * train_std\n",
    "\n",
    "test_mean = np.mean(X_test, axis=0)\n",
    "test_std  = np.std(X_test, axis=0)\n",
    "\n",
    "testZ = X_test <= test_mean + 0.05 * test_std\n",
    "\n",
    "nZ  = np.logical_not(trainZ)\n",
    "tnZ = np.logical_not(testZ)\n",
    "\n",
    "X_train[trainZ] = 0\n",
    "X_train[nZ] = 1\n",
    "X_test[testZ] = 0\n",
    "X_test[tnZ] = 1\n",
    "\n",
    "X_train = X_train.reshape(-1, 28*28)\n",
    "X_test  = X_test.reshape(-1, 28*28)"
   ]
  },
  {
   "cell_type": "code",
   "execution_count": 6,
   "metadata": {},
   "outputs": [
    {
     "name": "stdout",
     "output_type": "stream",
     "text": [
      "0.6936\n",
      "CPU times: user 700 ms, sys: 449 ms, total: 1.15 s\n",
      "Wall time: 573 ms\n"
     ]
    }
   ],
   "source": [
    "%%time\n",
    "from sklearn.naive_bayes import BernoulliNB\n",
    "NB = BernoulliNB().fit(X_train, y_train)\n",
    "print(np.average(NB.predict(X_test) == y_test))"
   ]
  },
  {
   "cell_type": "markdown",
   "metadata": {},
   "source": [
    "### Loading Pretrained Logistic Regression and Conforming NaCL model"
   ]
  },
  {
   "cell_type": "code",
   "execution_count": 7,
   "metadata": {},
   "outputs": [],
   "source": [
    "import pickle\n",
    "\n",
    "clf, aData = utils.load(\"../pretrained/fashion_mnist_meanbinarizedi_785_.pickle\")\n",
    "\n",
    "W = np.hstack((clf.intercept_[:,None], clf.coef_))\n",
    "nacl = LR2NBK_GP.LR2NBK(W)\n",
    "nacl.load(aData)"
   ]
  },
  {
   "cell_type": "code",
   "execution_count": 8,
   "metadata": {},
   "outputs": [
    {
     "name": "stdout",
     "output_type": "stream",
     "text": [
      "CPU times: user 590 ms, sys: 557 ms, total: 1.15 s\n",
      "Wall time: 248 ms\n"
     ]
    },
    {
     "data": {
      "text/plain": [
       "(0.8208, 0.8208)"
      ]
     },
     "execution_count": 8,
     "metadata": {},
     "output_type": "execute_result"
    }
   ],
   "source": [
    "%%time\n",
    "np.average(np.mean(nacl.classify(X_test) == y_test)), np.average(clf.predict(X_test) == y_test)"
   ]
  },
  {
   "cell_type": "markdown",
   "metadata": {},
   "source": [
    "# Missing Data"
   ]
  },
  {
   "cell_type": "code",
   "execution_count": 9,
   "metadata": {},
   "outputs": [
    {
     "name": "stdout",
     "output_type": "stream",
     "text": [
      "Using following function: \n",
      "<function conditional_likelihood_k at 0x7f7440b4d668>\n",
      "Possible features to remove: 784\n",
      "K = 0\n",
      "\t R = 0\n"
     ]
    },
    {
     "name": "stderr",
     "output_type": "stream",
     "text": [
      "../code/utils.py:81: RuntimeWarning: invalid value encountered in divide\n",
      "  Z2 = Z1 / np.sum(Z1, axis = 1)\n"
     ]
    },
    {
     "name": "stdout",
     "output_type": "stream",
     "text": [
      "K = 20\n",
      "\t R = 0\n",
      "K = 40\n",
      "\t R = 0\n",
      "K = 60\n",
      "\t R = 0\n",
      "K = 80\n",
      "\t R = 0\n",
      "K = 100\n",
      "\t R = 0\n",
      "K = 120\n",
      "\t R = 0\n",
      "K = 140\n",
      "\t R = 0\n",
      "K = 160\n",
      "\t R = 0\n",
      "K = 180\n",
      "\t R = 0\n",
      "K = 200\n",
      "\t R = 0\n",
      "K = 220\n",
      "\t R = 0\n",
      "K = 240\n",
      "\t R = 0\n",
      "K = 260\n",
      "\t R = 0\n",
      "K = 280\n",
      "\t R = 0\n",
      "K = 300\n",
      "\t R = 0\n",
      "K = 320\n",
      "\t R = 0\n",
      "K = 340\n",
      "\t R = 0\n",
      "K = 360\n",
      "\t R = 0\n",
      "K = 380\n",
      "\t R = 0\n",
      "K = 400\n",
      "\t R = 0\n",
      "K = 420\n",
      "\t R = 0\n",
      "K = 440\n",
      "\t R = 0\n",
      "K = 460\n",
      "\t R = 0\n",
      "K = 480\n",
      "\t R = 0\n",
      "K = 500\n",
      "\t R = 0\n",
      "K = 520\n",
      "\t R = 0\n",
      "K = 540\n",
      "\t R = 0\n",
      "K = 560\n",
      "\t R = 0\n",
      "K = 580\n",
      "\t R = 0\n",
      "K = 600\n",
      "\t R = 0\n",
      "K = 620\n",
      "\t R = 0\n",
      "K = 640\n",
      "\t R = 0\n",
      "K = 660\n",
      "\t R = 0\n",
      "K = 680\n",
      "\t R = 0\n",
      "K = 700\n",
      "\t R = 0\n",
      "K = 720\n",
      "\t R = 0\n",
      "K = 740\n",
      "\t R = 0\n",
      "K = 760\n",
      "\t R = 0\n",
      "K = 780\n",
      "\t R = 0\n",
      "CPU times: user 1min 55s, sys: 1min 20s, total: 3min 16s\n",
      "Wall time: 1min 17s\n"
     ]
    }
   ],
   "source": [
    "%%time\n",
    "setting = {\n",
    "    \"repeat\": 1, #10\n",
    "    \"k\": [i for i in range(0, 800, 20)],\n",
    "    \"prob\" : True,\n",
    "    \"function\": utils.conditional_likelihood_k\n",
    "}\n",
    "data_a2 = utils.run_experiment_k_paper(X_test, y_test, clf, NB, nacl, setting)"
   ]
  },
  {
   "cell_type": "code",
   "execution_count": 10,
   "metadata": {},
   "outputs": [
    {
     "data": {
      "text/plain": [
       "<module 'matplotlib.pyplot' from '/home/pasha/Desktop/ucla-lab/missing/gpkit2/lib/python2.7/site-packages/matplotlib/pyplot.pyc'>"
      ]
     },
     "execution_count": 10,
     "metadata": {},
     "output_type": "execute_result"
    },
    {
     "name": "stderr",
     "output_type": "stream",
     "text": [
      "/home/pasha/Desktop/ucla-lab/missing/gpkit2/lib/python2.7/site-packages/matplotlib/figure.py:2299: UserWarning: This figure includes Axes that are not compatible with tight_layout, so results might be incorrect.\n",
      "  warnings.warn(\"This figure includes Axes that are not compatible \"\n"
     ]
    },
    {
     "data": {
      "image/png": "[encoded data removed]",
      "text/plain": [
       "<Figure size 432x288 with 1 Axes>"
      ]
     },
     "metadata": {
      "needs_background": "light"
     },
     "output_type": "display_data"
    }
   ],
   "source": [
    "setting = {\n",
    "    \"show\": [\"mean\", \"median\", \"ours\",\"min\"],\n",
    "    \"saveAs\": \"../results/fashion_mnistk_cross.pdf\",\n",
    "    \"title\": \"Fashion\",\n",
    "    \"Ylabel\": \"\",#\"Cross Entropy\",\n",
    "    \"Xlabel\": \"% Missing\",\n",
    "    \"legend\": False,\n",
    "    \"size\": (6,4)\n",
    "}\n",
    "utils.plot_results_paper(data_a2, setting)"
   ]
  },
  {
   "cell_type": "code",
   "execution_count": 11,
   "metadata": {},
   "outputs": [
    {
     "name": "stdout",
     "output_type": "stream",
     "text": [
      "Using following function: \n",
      "<function <lambda> at 0x7f7440ba1848>\n",
      "Possible features to remove: 784\n",
      "K = 0\n",
      "\t R = 0\n",
      "K = 20\n",
      "\t R = 0\n",
      "K = 40\n",
      "\t R = 0\n",
      "K = 60\n",
      "\t R = 0\n",
      "K = 80\n",
      "\t R = 0\n",
      "K = 100\n",
      "\t R = 0\n",
      "K = 120\n",
      "\t R = 0\n",
      "K = 140\n",
      "\t R = 0\n",
      "K = 160\n",
      "\t R = 0\n",
      "K = 180\n",
      "\t R = 0\n",
      "K = 200\n",
      "\t R = 0\n",
      "K = 220\n",
      "\t R = 0\n",
      "K = 240\n",
      "\t R = 0\n",
      "K = 260\n",
      "\t R = 0\n",
      "K = 280\n",
      "\t R = 0\n",
      "K = 300\n",
      "\t R = 0\n",
      "K = 320\n",
      "\t R = 0\n",
      "K = 340\n",
      "\t R = 0\n",
      "K = 360\n",
      "\t R = 0\n",
      "K = 380\n",
      "\t R = 0\n",
      "K = 400\n",
      "\t R = 0\n",
      "K = 420\n",
      "\t R = 0\n",
      "K = 440\n",
      "\t R = 0\n",
      "K = 460\n",
      "\t R = 0\n",
      "K = 480\n",
      "\t R = 0\n",
      "K = 500\n",
      "\t R = 0\n",
      "K = 520\n",
      "\t R = 0\n",
      "K = 540\n",
      "\t R = 0\n",
      "K = 560\n",
      "\t R = 0\n",
      "K = 580\n",
      "\t R = 0\n",
      "K = 600\n",
      "\t R = 0\n",
      "K = 620\n",
      "\t R = 0\n",
      "K = 640\n",
      "\t R = 0\n",
      "K = 660\n",
      "\t R = 0\n",
      "K = 680\n",
      "\t R = 0\n",
      "K = 700\n",
      "\t R = 0\n",
      "K = 720\n",
      "\t R = 0\n",
      "K = 740\n",
      "\t R = 0\n",
      "K = 760\n",
      "\t R = 0\n",
      "K = 780\n",
      "\t R = 0\n",
      "CPU times: user 2min 5s, sys: 1min 24s, total: 3min 30s\n",
      "Wall time: 1min 26s\n"
     ]
    }
   ],
   "source": [
    "%%time\n",
    "accuracy = lambda x,y: np.mean(x == y)\n",
    "setting = {\n",
    "    \"repeat\": 1, #10\n",
    "    \"k\": [i for i in range(0, 800, 20)],\n",
    "    \"prob\" : False,\n",
    "    \"function\": accuracy\n",
    "}\n",
    "data_a3 = utils.run_experiment_k_paper(X_test, y_test, clf, NB, nacl, setting)"
   ]
  },
  {
   "cell_type": "code",
   "execution_count": 12,
   "metadata": {},
   "outputs": [
    {
     "data": {
      "text/plain": [
       "<module 'matplotlib.pyplot' from '/home/pasha/Desktop/ucla-lab/missing/gpkit2/lib/python2.7/site-packages/matplotlib/pyplot.pyc'>"
      ]
     },
     "execution_count": 12,
     "metadata": {},
     "output_type": "execute_result"
    },
    {
     "data": {
      "image/png": "[encoded data removed]",
      "text/plain": [
       "<Figure size 432x288 with 1 Axes>"
      ]
     },
     "metadata": {
      "needs_background": "light"
     },
     "output_type": "display_data"
    }
   ],
   "source": [
    "setting2 = {\n",
    "    \"show\": [\"ours\", \"min\", \"mean\", \"median\"],\n",
    "    \"saveAs\": \"../results/fashion_mnistk_accuracy.pdf\",\n",
    "    \"title\": \"Fashion\",\n",
    "    \"Ylabel\": \"\",#\"Cross Entropy\",\n",
    "    \"Xlabel\": \"% Missing\",\n",
    "    \"legend\": False,\n",
    "    \"size\": (6,4),\n",
    "    \"mult\": 100.0\n",
    "}\n",
    "utils.plot_results_paper(data_a3, setting2)"
   ]
  },
  {
   "cell_type": "code",
   "execution_count": 13,
   "metadata": {},
   "outputs": [],
   "source": [
    "utils.save(\"../results/data_fashionmnistk_result_cross.pickle\", data_a2)\n",
    "utils.save(\"../results/data_fashionmnistk_result_accuracy.pickle\", data_a3)"
   ]
  },
  {
   "cell_type": "code",
   "execution_count": null,
   "metadata": {},
   "outputs": [],
   "source": []
  }
 ],
 "metadata": {
  "kernelspec": {
   "display_name": "py2",
   "language": "python",
   "name": "py2"
  },
  "language_info": {
   "codemirror_mode": {
    "name": "ipython",
    "version": 2
   },
   "file_extension": ".py",
   "mimetype": "text/x-python",
   "name": "python",
   "nbconvert_exporter": "python",
   "pygments_lexer": "ipython2",
   "version": "2.7.15rc1"
  }
 },
 "nbformat": 4,
 "nbformat_minor": 2
}
