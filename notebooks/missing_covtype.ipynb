{
 "cells": [
  {
   "cell_type": "code",
   "execution_count": 1,
   "metadata": {},
   "outputs": [],
   "source": [
    "import math\n",
    "import matplotlib.pyplot as plt \n",
    "import numpy as np\n",
    "from sklearn.linear_model import LogisticRegression\n",
    "from sklearn.naive_bayes import BernoulliNB, MultinomialNB\n",
    "\n",
    "import sys\n",
    "\n",
    "sys.path.append(\"../src/\")\n",
    "sys.setrecursionlimit(2000000)\n",
    "\n",
    "import utils\n",
    "from NaCL import NaCLK"
   ]
  },
  {
   "cell_type": "code",
   "execution_count": 2,
   "metadata": {},
   "outputs": [],
   "source": [
    "cov_encoding = [[0, 1, 2, 3, 4, 5],[10, 11, 12, 13, 14, 15],[20, 21, 22, 23, 24, 25],[30, 31, 32, 33, 34, 35],[40, 41, 42, 43, 44, 45],[50, 51, 52, 53, 54, 55],[60, 61, 62, 63, 64, 65],[70, 71, 72, 73, 74, 75],[80, 81, 82, 83, 84, 85],[90, 91, 92, 93, 94, 95],[60, 61, 62, 63],\n",
    "                [64, 65, 66, 67, 68, 69, 70, 71, 72, 73, 74, 75, 76, 77, 78, 79, 80, 81, 82, 83, 84, 85, 86, 87, 88, 89, 90, 91, 92, 93, 94, 95, 96, 97, 98, 99, 100, 101, 102, 103]]"
   ]
  },
  {
   "cell_type": "markdown",
   "metadata": {},
   "source": [
    "# Loading Data"
   ]
  },
  {
   "cell_type": "code",
   "execution_count": 3,
   "metadata": {},
   "outputs": [],
   "source": [
    "X_train, y_train, X_test, y_test = utils.load_dataset(\"../data/covtype\", \"covtype\")"
   ]
  },
  {
   "cell_type": "code",
   "execution_count": 4,
   "metadata": {},
   "outputs": [
    {
     "data": {
      "text/plain": [
       "(464808, 104)"
      ]
     },
     "execution_count": 4,
     "metadata": {},
     "output_type": "execute_result"
    }
   ],
   "source": [
    "X_train.shape"
   ]
  },
  {
   "cell_type": "code",
   "execution_count": 5,
   "metadata": {},
   "outputs": [
    {
     "data": {
      "text/plain": [
       "array([0, 1, 2, 3, 4, 5, 6])"
      ]
     },
     "execution_count": 5,
     "metadata": {},
     "output_type": "execute_result"
    }
   ],
   "source": [
    "np.unique(y_train)"
   ]
  },
  {
   "cell_type": "code",
   "execution_count": 6,
   "metadata": {},
   "outputs": [
    {
     "name": "stdout",
     "output_type": "stream",
     "text": [
      "0.6335497667854254\n",
      "0.6345846026746528\n",
      "CPU times: user 3.68 s, sys: 1.35 s, total: 5.03 s\n",
      "Wall time: 2.62 s\n"
     ]
    }
   ],
   "source": [
    "%%time\n",
    "from sklearn.naive_bayes import BernoulliNB\n",
    "NB = BernoulliNB().fit(X_train, y_train)\n",
    "print(np.average(NB.predict(X_train) == y_train))\n",
    "print(np.average(NB.predict(X_test) == y_test))"
   ]
  },
  {
   "cell_type": "markdown",
   "metadata": {},
   "source": [
    "### Training Logistic Regression"
   ]
  },
  {
   "cell_type": "code",
   "execution_count": 7,
   "metadata": {},
   "outputs": [
    {
     "name": "stderr",
     "output_type": "stream",
     "text": [
      "[Parallel(n_jobs=6)]: Using backend LokyBackend with 6 concurrent workers.\n"
     ]
    },
    {
     "name": "stdout",
     "output_type": "stream",
     "text": [
      "CPU times: user 882 ms, sys: 734 ms, total: 1.62 s\n",
      "Wall time: 5min 21s\n"
     ]
    },
    {
     "name": "stderr",
     "output_type": "stream",
     "text": [
      "[Parallel(n_jobs=6)]: Done   1 out of   1 | elapsed:  5.3min finished\n"
     ]
    }
   ],
   "source": [
    "%%time\n",
    "clf = LogisticRegression(solver='lbfgs', \n",
    "    verbose=True, \n",
    "    C = 1,\n",
    "    multi_class='multinomial',\n",
    "    max_iter=400, n_jobs=6).fit(X_train, y_train)"
   ]
  },
  {
   "cell_type": "code",
   "execution_count": 8,
   "metadata": {},
   "outputs": [
    {
     "name": "stdout",
     "output_type": "stream",
     "text": [
      "0.7098586943426103 0.7075695771157123\n"
     ]
    }
   ],
   "source": [
    "print (np.average(clf.predict(X_test) == y_test), np.average(clf.predict(X_train) == y_train))"
   ]
  },
  {
   "cell_type": "markdown",
   "metadata": {},
   "source": [
    "### Learning NaCL model"
   ]
  },
  {
   "cell_type": "code",
   "execution_count": 9,
   "metadata": {},
   "outputs": [
    {
     "name": "stdout",
     "output_type": "stream",
     "text": [
      "Using solver 'mosek_conif'\n",
      " for 1463 free variables\n",
      "  in 1990 posynomial inequalities.\n",
      "Solving took 0.141 seconds.\n",
      "CPU times: user 4.27 s, sys: 559 ms, total: 4.83 s\n",
      "Wall time: 4.1 s\n"
     ]
    }
   ],
   "source": [
    "%%time\n",
    "have_mosek = True # set False if you don't have mosek installed\n",
    "\n",
    "nacl = NaCLK().setup(clf, X_train, y_train) # , c = 1e-10)\n",
    "if have_mosek:\n",
    "    nacl.solve(solver = 'mosek_conif', verbose=1) \n",
    "else:\n",
    "    nacl.solve(solver = 'cvxopt', verbose=1) "
   ]
  },
  {
   "cell_type": "code",
   "execution_count": 10,
   "metadata": {},
   "outputs": [],
   "source": [
    "# Sanity Check to compare NaCL results with Logistic Regression\n",
    "assert(1.0 == np.average( nacl.predict(X_test)  == clf.predict(X_test )))\n",
    "assert(1.0 == np.average( nacl.predict(X_train) == clf.predict(X_train)))"
   ]
  },
  {
   "cell_type": "markdown",
   "metadata": {},
   "source": [
    "## Generating Table for Paper"
   ]
  },
  {
   "cell_type": "code",
   "execution_count": 11,
   "metadata": {},
   "outputs": [],
   "source": [
    "N = len(cov_encoding)"
   ]
  },
  {
   "cell_type": "code",
   "execution_count": 12,
   "metadata": {},
   "outputs": [
    {
     "name": "stdout",
     "output_type": "stream",
     "text": [
      "Using following function: \n",
      "<function <lambda> at 0x7f8a20ada950>\n",
      "Possible features to remove: 12\n",
      "K = 0\n",
      "\t R = 0\n",
      "K = 2\n",
      "\t R = 0\n",
      "K = 4\n",
      "\t R = 0\n",
      "K = 6\n",
      "\t R = 0\n",
      "K = 8\n",
      "\t R = 0\n",
      "K = 10\n",
      "\t R = 0\n",
      "CPU times: user 4min 29s, sys: 1min 52s, total: 6min 22s\n",
      "Wall time: 2min 21s\n"
     ]
    }
   ],
   "source": [
    "%%time\n",
    "from sklearn.metrics import f1_score \n",
    "\n",
    "accuracy = lambda x,y: np.mean(x == y)\n",
    "f1 = lambda x,y: f1_score(x,y.flatten(), average = \"weighted\")\n",
    "\n",
    "setting = {\n",
    "    \"repeat\": 3, #10\n",
    "    \"k\": [i for i in range(0, N, int(0.2*N))],\n",
    "    \"feature_encoding\": cov_encoding,\n",
    "    \"prob\" : False,# True\n",
    "    \"function\": f1 #utils.conditional_likelihood_k\n",
    "}\n",
    "data_for_table = utils.run_experiment_k_paper(X_test, y_test, clf, NB, nacl, setting)"
   ]
  },
  {
   "cell_type": "code",
   "execution_count": 13,
   "metadata": {},
   "outputs": [
    {
     "name": "stdout",
     "output_type": "stream",
     "text": [
      "min 20 64.00868159669997 0.07408239593936256\n",
      "min 40 57.91394184790649 0.07468985308686019\n",
      "min 60 52.174356148433354 0.06946083405748976\n",
      "min 80 46.122284376361755 0.11222692157667369\n",
      "max 20 49.59706197075932 0.08629097191390488\n",
      "max 40 44.06724743474022 0.045643678900852205\n",
      "max 60 41.467536985115906 0.08016766899265833\n",
      "max 80 37.23632647515252 0.03850107583785262\n",
      "mean 20 64.05439054275462 0.07061586832203345\n",
      "mean 40 57.835410454888574 0.02069107070985059\n",
      "mean 60 52.037927423768885 0.126009701305637\n",
      "mean 80 46.27727876986943 0.029893640119704655\n",
      "median 20 64.00868159669997 0.07408239593936256\n",
      "median 40 57.91394184790649 0.07468985308686019\n",
      "median 60 52.174356148433354 0.06946083405748976\n",
      "median 80 46.122284376361755 0.11222692157667369\n",
      "ours 20 66.12344007478119 0.11514732387283881\n",
      "ours 40 61.56188318555598 0.0802674760348471\n",
      "ours 60 56.87118518748417 0.15109036107480636\n",
      "ours 80 51.70944676567954 0.08202984245594175\n",
      "\n",
      "64.0 & 57.9 & 52.2 & 46.1 & \n",
      "49.6 & 44.1 & 41.5 & 37.2 & \n",
      "64.1 & 57.8 & 52.0 & 46.3 & \n",
      "64.0 & 57.9 & 52.2 & 46.1 & \n",
      "\\textbf{66.1} & \\textbf{61.6} & \\textbf{56.9} & \\textbf{51.7} & \n"
     ]
    }
   ],
   "source": [
    "row = []\n",
    "for method in [\"min\", \"max\", \"mean\", \"median\",\"ours\"]:\n",
    "    temp = []\n",
    "    for k in range(1, 5):\n",
    "        m = np.mean(100*data_for_table[method][k])\n",
    "        s = np.std(100*data_for_table[method][k])\n",
    "        temp.append(np.round(m, 1))\n",
    "        print(method, k*20, m, s)\n",
    "        \n",
    "    row.append(temp)\n",
    "\n",
    "row = np.array(row)  \n",
    "bold = np.argmax(row, axis=0)\n",
    "print(\"\")\n",
    "for i in range(len(row)):\n",
    "    line = \"\"\n",
    "    for j in range(len(row[i])):\n",
    "        if bold[j] == i or row[i][j] == row[bold[j]][j]:\n",
    "            line += \"\\\\textbf{\" + str(row[i][j]) + \"}\"\n",
    "        else:\n",
    "            line += str(row[i][j])\n",
    "        \n",
    "        line += \" & \"\n",
    "    print(line)\n",
    "    "
   ]
  },
  {
   "cell_type": "markdown",
   "metadata": {},
   "source": [
    "## Generating Missing Data Charts"
   ]
  },
  {
   "cell_type": "code",
   "execution_count": 14,
   "metadata": {},
   "outputs": [
    {
     "data": {
      "text/plain": [
       "(116202, 104)"
      ]
     },
     "execution_count": 14,
     "metadata": {},
     "output_type": "execute_result"
    }
   ],
   "source": [
    "X_test.shape"
   ]
  },
  {
   "cell_type": "code",
   "execution_count": 15,
   "metadata": {},
   "outputs": [
    {
     "name": "stdout",
     "output_type": "stream",
     "text": [
      "Using following function: \n",
      "<function conditional_likelihood_k at 0x7f8a21981488>\n",
      "Possible features to remove: 12\n",
      "K = 0\n",
      "\t R = 0\n",
      "K = 1\n",
      "\t R = 0\n",
      "K = 2\n",
      "\t R = 0\n",
      "K = 3\n",
      "\t R = 0\n",
      "K = 4\n",
      "\t R = 0\n",
      "K = 5\n",
      "\t R = 0\n",
      "K = 6\n",
      "\t R = 0\n",
      "K = 7\n",
      "\t R = 0\n",
      "K = 8\n",
      "\t R = 0\n",
      "K = 9\n",
      "\t R = 0\n",
      "K = 10\n",
      "\t R = 0\n",
      "K = 11\n",
      "\t R = 0\n",
      "K = 12\n",
      "\t R = 0\n",
      "CPU times: user 3min 17s, sys: 1min 28s, total: 4min 46s\n",
      "Wall time: 1min 32s\n"
     ]
    }
   ],
   "source": [
    "%%time\n",
    "setting = {\n",
    "    \"repeat\": 1,\n",
    "    \"k\": [i for i in range(0, 13, 1)],\n",
    "    \"prob\" : True,\n",
    "    \"function\": utils.conditional_likelihood_k,\n",
    "    \"feature_encoding\": cov_encoding,\n",
    "}\n",
    "data_a2 = utils.run_experiment_k_paper(X_test, y_test, clf, NB, nacl, setting)"
   ]
  },
  {
   "cell_type": "code",
   "execution_count": 16,
   "metadata": {},
   "outputs": [
    {
     "data": {
      "text/plain": [
       "<module 'matplotlib.pyplot' from '/home/pasha/.local/lib/python3.6/site-packages/matplotlib/pyplot.py'>"
      ]
     },
     "execution_count": 16,
     "metadata": {},
     "output_type": "execute_result"
    },
    {
     "data": {
      "image/png": "[encoded data removed]",
      "text/plain": [
       "<Figure size 576x432 with 1 Axes>"
      ]
     },
     "metadata": {
      "needs_background": "light"
     },
     "output_type": "display_data"
    }
   ],
   "source": [
    "setting = {\n",
    "    \"show\": [\"min\", \"mean\", \"median\", \"ours\"],\n",
    "    \"saveAs\": \"../results/covType_cross.pdf\",\n",
    "    \"title\": \"CovType\",\n",
    "    \"Ylabel\": \"Cross Entropy\"\n",
    "}\n",
    "utils.plot_results_paper(data_a2, setting)"
   ]
  },
  {
   "cell_type": "code",
   "execution_count": 17,
   "metadata": {},
   "outputs": [
    {
     "name": "stdout",
     "output_type": "stream",
     "text": [
      "Using following function: \n",
      "<function <lambda> at 0x7f8a20ada7b8>\n",
      "Possible features to remove: 12\n",
      "K = 0\n",
      "\t R = 0\n",
      "K = 1\n",
      "\t R = 0\n",
      "K = 2\n",
      "\t R = 0\n",
      "K = 3\n",
      "\t R = 0\n",
      "K = 4\n",
      "\t R = 0\n",
      "K = 5\n",
      "\t R = 0\n",
      "K = 6\n",
      "\t R = 0\n",
      "K = 7\n",
      "\t R = 0\n",
      "K = 8\n",
      "\t R = 0\n",
      "K = 9\n",
      "\t R = 0\n",
      "K = 10\n",
      "\t R = 0\n",
      "K = 11\n",
      "\t R = 0\n",
      "K = 12\n",
      "\t R = 0\n",
      "CPU times: user 3min 17s, sys: 1min 22s, total: 4min 39s\n",
      "Wall time: 1min 44s\n"
     ]
    }
   ],
   "source": [
    "%%time\n",
    "from sklearn.metrics import f1_score \n",
    "\n",
    "accuracy = lambda x,y: np.mean(x == y)\n",
    "f1 = lambda x,y: f1_score(x,y.flatten(), average = \"weighted\")\n",
    "\n",
    "setting = {\n",
    "    \"repeat\": 1,\n",
    "    \"k\": [i for i in range(0, 13, 1)],\n",
    "    \"prob\" : False,\n",
    "    \"function\": f1,\n",
    "    \"feature_encoding\": cov_encoding,\n",
    "}\n",
    "data_a3 = utils.run_experiment_k_paper(X_test, y_test, clf, NB, nacl, setting)"
   ]
  },
  {
   "cell_type": "code",
   "execution_count": 18,
   "metadata": {},
   "outputs": [
    {
     "data": {
      "text/plain": [
       "<module 'matplotlib.pyplot' from '/home/pasha/.local/lib/python3.6/site-packages/matplotlib/pyplot.py'>"
      ]
     },
     "execution_count": 18,
     "metadata": {},
     "output_type": "execute_result"
    },
    {
     "data": {
      "image/png": "[encoded data removed]",
      "text/plain": [
       "<Figure size 576x432 with 1 Axes>"
      ]
     },
     "metadata": {
      "needs_background": "light"
     },
     "output_type": "display_data"
    }
   ],
   "source": [
    "setting = {\n",
    "    \"show\": [\"min\", \"ours\", \"mean\", \"median\"],\n",
    "    \"saveAs\": \"../results/covtype_accuracy.pdf\",\n",
    "    \"title\": \"CovType\",\n",
    "    \"Ylabel\": \"F1\"\n",
    "}\n",
    "utils.plot_results_paper(data_a3, setting)"
   ]
  },
  {
   "cell_type": "code",
   "execution_count": 19,
   "metadata": {},
   "outputs": [],
   "source": [
    "utils.save(\"../results/data_covtype_result_cross.pickle\", data_a2)\n",
    "utils.save(\"../results/data_covtype_result_accuracy.pickle\", data_a3)"
   ]
  }
 ],
 "metadata": {
  "kernelspec": {
   "display_name": "Python 3",
   "language": "python",
   "name": "python3"
  },
  "language_info": {
   "codemirror_mode": {
    "name": "ipython",
    "version": 3
   },
   "file_extension": ".py",
   "mimetype": "text/x-python",
   "name": "python",
   "nbconvert_exporter": "python",
   "pygments_lexer": "ipython3",
   "version": "3.6.9"
  }
 },
 "nbformat": 4,
 "nbformat_minor": 2
}
