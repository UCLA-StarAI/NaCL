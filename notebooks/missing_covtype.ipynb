{
 "cells": [
  {
   "cell_type": "code",
   "execution_count": 1,
   "metadata": {},
   "outputs": [
    {
     "name": "stderr",
     "output_type": "stream",
     "text": [
      "Using TensorFlow backend.\n"
     ]
    }
   ],
   "source": [
    "import math\n",
    "import matplotlib.pyplot as plt \n",
    "from sklearn.datasets import load_digits\n",
    "import numpy as np\n",
    "from sklearn.linear_model import LogisticRegression\n",
    "from sklearn.model_selection import train_test_split\n",
    "import pylab\n",
    "import sys\n",
    "\n",
    "import keras\n",
    "from sklearn.naive_bayes import BernoulliNB, MultinomialNB"
   ]
  },
  {
   "cell_type": "code",
   "execution_count": 2,
   "metadata": {},
   "outputs": [],
   "source": [
    "sys.path.append(\"../code/\")\n",
    "\n",
    "import utils\n",
    "import LR2NBK_GP"
   ]
  },
  {
   "cell_type": "code",
   "execution_count": 3,
   "metadata": {},
   "outputs": [],
   "source": [
    "%load_ext autoreload\n",
    "%autoreload 2"
   ]
  },
  {
   "cell_type": "code",
   "execution_count": 4,
   "metadata": {},
   "outputs": [],
   "source": [
    "cov_encoding = [[0, 1, 2, 3, 4, 5],\n",
    "[10, 11, 12, 13, 14, 15],\n",
    "[20, 21, 22, 23, 24, 25],\n",
    "[30, 31, 32, 33, 34, 35],\n",
    "[40, 41, 42, 43, 44, 45],\n",
    "[50, 51, 52, 53, 54, 55],\n",
    "[60, 61, 62, 63, 64, 65],\n",
    "[70, 71, 72, 73, 74, 75],\n",
    "[80, 81, 82, 83, 84, 85],\n",
    "[90, 91, 92, 93, 94, 95],\n",
    "[60, 61, 62, 63],\n",
    "[64,\n",
    " 65,\n",
    " 66,\n",
    " 67,\n",
    " 68,\n",
    " 69,\n",
    " 70,\n",
    " 71,\n",
    " 72,\n",
    " 73,\n",
    " 74,\n",
    " 75,\n",
    " 76,\n",
    " 77,\n",
    " 78,\n",
    " 79,\n",
    " 80,\n",
    " 81,\n",
    " 82,\n",
    " 83,\n",
    " 84,\n",
    " 85,\n",
    " 86,\n",
    " 87,\n",
    " 88,\n",
    " 89,\n",
    " 90,\n",
    " 91,\n",
    " 92,\n",
    " 93,\n",
    " 94,\n",
    " 95,\n",
    " 96,\n",
    " 97,\n",
    " 98,\n",
    " 99,\n",
    " 100,\n",
    " 101,\n",
    " 102,\n",
    " 103]]"
   ]
  },
  {
   "cell_type": "markdown",
   "metadata": {},
   "source": [
    "# Loading Data"
   ]
  },
  {
   "cell_type": "code",
   "execution_count": 5,
   "metadata": {},
   "outputs": [],
   "source": [
    "X_train, y_train, X_test, y_test = utils.load_dataset(\"covtype\", \"covtype\")"
   ]
  },
  {
   "cell_type": "code",
   "execution_count": 6,
   "metadata": {},
   "outputs": [
    {
     "data": {
      "text/plain": [
       "(464808, 104)"
      ]
     },
     "execution_count": 6,
     "metadata": {},
     "output_type": "execute_result"
    }
   ],
   "source": [
    "X_train.shape"
   ]
  },
  {
   "cell_type": "code",
   "execution_count": 7,
   "metadata": {},
   "outputs": [
    {
     "data": {
      "text/plain": [
       "array([0, 1, 2, 3, 4, 5, 6])"
      ]
     },
     "execution_count": 7,
     "metadata": {},
     "output_type": "execute_result"
    }
   ],
   "source": [
    "np.unique(y_train)"
   ]
  },
  {
   "cell_type": "code",
   "execution_count": 8,
   "metadata": {},
   "outputs": [
    {
     "name": "stdout",
     "output_type": "stream",
     "text": [
      "0.6335497667854254\n",
      "0.6345846026746528\n",
      "CPU times: user 2.22 s, sys: 1.24 s, total: 3.46 s\n",
      "Wall time: 1.86 s\n"
     ]
    }
   ],
   "source": [
    "%%time\n",
    "from sklearn.naive_bayes import BernoulliNB\n",
    "NB = BernoulliNB().fit(X_train, y_train)\n",
    "print(np.average(NB.predict(X_train) == y_train))\n",
    "print(np.average(NB.predict(X_test) == y_test))"
   ]
  },
  {
   "cell_type": "markdown",
   "metadata": {},
   "source": [
    "### Training Logistic Regression"
   ]
  },
  {
   "cell_type": "code",
   "execution_count": 9,
   "metadata": {},
   "outputs": [
    {
     "name": "stderr",
     "output_type": "stream",
     "text": [
      "[Parallel(n_jobs=6)]: Using backend LokyBackend with 6 concurrent workers.\n",
      "[Parallel(n_jobs=6)]: Done   1 out of   1 | elapsed:  6.4min finished\n"
     ]
    },
    {
     "name": "stdout",
     "output_type": "stream",
     "text": [
      "0.7100049913082391 0.7077782654343299\n",
      "CPU times: user 1.16 s, sys: 1.34 s, total: 2.49 s\n",
      "Wall time: 6min 23s\n"
     ]
    }
   ],
   "source": [
    "%%time\n",
    "clf = LogisticRegression(solver='lbfgs', \n",
    "    verbose=True, \n",
    "    C = 1,\n",
    "    multi_class='multinomial',\n",
    "    max_iter=400, n_jobs=6).fit(X_train, y_train)\n",
    "\n",
    "print np.average(clf.predict(X_test) == y_test), np.average(clf.predict(X_train) == y_train)\n",
    "\n",
    "W = np.hstack((clf.intercept_[:,None], clf.coef_))"
   ]
  },
  {
   "cell_type": "markdown",
   "metadata": {},
   "source": [
    "### Learning NaCL model"
   ]
  },
  {
   "cell_type": "code",
   "execution_count": 10,
   "metadata": {},
   "outputs": [
    {
     "name": "stdout",
     "output_type": "stream",
     "text": [
      "Using solver 'mosek_cli'\n",
      "Solving for 1463 variables.\n",
      "Solving took 0.75 seconds.\n",
      "CPU times: user 10.7 s, sys: 175 ms, total: 10.9 s\n",
      "Wall time: 11.6 s\n"
     ]
    }
   ],
   "source": [
    "%%time\n",
    "nacl = LR2NBK_GP.LR2NBK(W)\n",
    "nacl.setObj(X_train, y_train)\n",
    "nacl.solve(solver = 'mosek_cli', verbose=1)"
   ]
  },
  {
   "cell_type": "code",
   "execution_count": 11,
   "metadata": {},
   "outputs": [],
   "source": [
    "# Sanity Check to compare NaCL results with Logistic Regression\n",
    "assert(1.0 == np.average( nacl.classify(X_test)  == clf.predict(X_test )))\n",
    "assert(1.0 == np.average( nacl.classify(X_train) == clf.predict(X_train)))"
   ]
  },
  {
   "cell_type": "markdown",
   "metadata": {},
   "source": [
    "## Generating Table for Paper"
   ]
  },
  {
   "cell_type": "code",
   "execution_count": 12,
   "metadata": {},
   "outputs": [],
   "source": [
    "N = len(cov_encoding)"
   ]
  },
  {
   "cell_type": "code",
   "execution_count": 13,
   "metadata": {},
   "outputs": [
    {
     "name": "stdout",
     "output_type": "stream",
     "text": [
      "Using following function: \n",
      "<function <lambda> at 0x7f7e74d86cf8>\n",
      "Possible features to remove: 12\n",
      "K = 0\n",
      "\t R = 0\n"
     ]
    },
    {
     "name": "stderr",
     "output_type": "stream",
     "text": [
      "/home/pasha/Desktop/ucla-lab/missing/gpkit2/lib/python2.7/site-packages/sklearn/metrics/classification.py:1143: UndefinedMetricWarning: F-score is ill-defined and being set to 0.0 in labels with no predicted samples.\n",
      "  'precision', 'predicted', average, warn_for)\n"
     ]
    },
    {
     "name": "stdout",
     "output_type": "stream",
     "text": [
      "K = 2\n",
      "\t R = 0\n",
      "K = 4\n",
      "\t R = 0\n",
      "K = 6\n",
      "\t R = 0\n",
      "K = 8\n",
      "\t R = 0\n",
      "K = 10\n",
      "\t R = 0\n",
      "CPU times: user 5min 38s, sys: 53.5 s, total: 6min 31s\n",
      "Wall time: 5min 19s\n"
     ]
    }
   ],
   "source": [
    "%%time\n",
    "from sklearn.metrics import f1_score \n",
    "\n",
    "accuracy = lambda x,y: np.mean(x == y)\n",
    "f1 = lambda x,y: f1_score(x,y.flatten(), average = \"weighted\")\n",
    "\n",
    "setting = {\n",
    "    \"repeat\": 3, #10\n",
    "    \"k\": [i for i in range(0, N, int(0.2*N))],\n",
    "    \"feature_encoding\": cov_encoding,\n",
    "    \"prob\" : False,# True\n",
    "    \"function\": f1 #utils.conditional_likelihood_k\n",
    "}\n",
    "data_for_table = utils.run_experiment_k_paper(X_test, y_test, clf, NB, nacl, setting)"
   ]
  },
  {
   "cell_type": "code",
   "execution_count": 14,
   "metadata": {},
   "outputs": [
    {
     "name": "stdout",
     "output_type": "stream",
     "text": [
      "('min', 20, 64.11734580455614, 0.1277110047290751)\n",
      "('min', 40, 58.123322126159934, 0.07091603217925467)\n",
      "('min', 60, 52.14886271624703, 0.03874239920745096)\n",
      "('min', 80, 46.16969342436074, 0.08674845704539336)\n",
      "('max', 20, 49.82091069533808, 0.12411143498990716)\n",
      "('max', 40, 44.24918654578601, 0.07589843661012728)\n",
      "('max', 60, 41.40107007195348, 0.10680541702618818)\n",
      "('max', 80, 37.520113839795634, 0.10224886716192533)\n",
      "('mean', 20, 64.20336068966618, 0.051024488734177635)\n",
      "('mean', 40, 58.10359543670748, 0.053753475786650934)\n",
      "('mean', 60, 52.13808432492095, 0.08751349424649182)\n",
      "('mean', 80, 46.35694786420439, 0.059160074452846954)\n",
      "('median', 20, 64.11734580455614, 0.1277110047290751)\n",
      "('median', 40, 58.123322126159934, 0.07091603217925467)\n",
      "('median', 60, 52.14886271624703, 0.03874239920745096)\n",
      "('median', 80, 46.16969342436074, 0.08674845704539336)\n",
      "('ours', 20, 66.18346252665796, 0.06459486636455207)\n",
      "('ours', 40, 61.71255447787602, 0.08288593463084581)\n",
      "('ours', 60, 56.89689799633474, 0.07109125078611962)\n",
      "('ours', 80, 51.801429972133754, 0.05169909306741652)\n",
      "\n",
      "64.1 & 58.1 & 52.1 & 46.2 & \n",
      "49.8 & 44.2 & 41.4 & 37.5 & \n",
      "64.2 & 58.1 & 52.1 & 46.4 & \n",
      "64.1 & 58.1 & 52.1 & 46.2 & \n",
      "\\textbf{66.2} & \\textbf{61.7} & \\textbf{56.9} & \\textbf{51.8} & \n"
     ]
    }
   ],
   "source": [
    "row = []\n",
    "for method in [\"min\", \"max\", \"mean\", \"median\",\"ours\"]:\n",
    "    temp = []\n",
    "    for k in range(1, 5):\n",
    "        m = np.mean(100*data_for_table[method][k])\n",
    "        s = np.std(100*data_for_table[method][k])\n",
    "        temp.append(np.round(m, 1))\n",
    "        print(method, k*20, m, s)\n",
    "        \n",
    "    row.append(temp)\n",
    "\n",
    "row = np.array(row)  \n",
    "bold = np.argmax(row, axis=0)\n",
    "print(\"\")\n",
    "for i in range(len(row)):\n",
    "    line = \"\"\n",
    "    for j in range(len(row[i])):\n",
    "        if bold[j] == i or row[i][j] == row[bold[j]][j]:\n",
    "            line += \"\\\\textbf{\" + str(row[i][j]) + \"}\"\n",
    "        else:\n",
    "            line += str(row[i][j])\n",
    "        \n",
    "        line += \" & \"\n",
    "    print(line)\n",
    "    "
   ]
  },
  {
   "cell_type": "markdown",
   "metadata": {},
   "source": [
    "## Generating Missing Data Charts"
   ]
  },
  {
   "cell_type": "code",
   "execution_count": 15,
   "metadata": {},
   "outputs": [
    {
     "data": {
      "text/plain": [
       "(116202, 104)"
      ]
     },
     "execution_count": 15,
     "metadata": {},
     "output_type": "execute_result"
    }
   ],
   "source": [
    "X_test.shape"
   ]
  },
  {
   "cell_type": "code",
   "execution_count": 16,
   "metadata": {},
   "outputs": [
    {
     "name": "stdout",
     "output_type": "stream",
     "text": [
      "Using following function: \n",
      "<function conditional_likelihood_k at 0x7f7e74fb5758>\n",
      "Possible features to remove: 12\n",
      "K = 0\n",
      "\t R = 0\n",
      "K = 1\n",
      "\t R = 0\n",
      "K = 2\n",
      "\t R = 0\n",
      "K = 3\n",
      "\t R = 0\n",
      "K = 4\n",
      "\t R = 0\n",
      "K = 5\n",
      "\t R = 0\n",
      "K = 6\n",
      "\t R = 0\n",
      "K = 7\n",
      "\t R = 0\n",
      "K = 8\n",
      "\t R = 0\n",
      "K = 9\n",
      "\t R = 0\n",
      "K = 10\n",
      "\t R = 0\n",
      "K = 11\n",
      "\t R = 0\n",
      "K = 12\n",
      "\t R = 0\n",
      "CPU times: user 3min 44s, sys: 56 s, total: 4min 40s\n",
      "Wall time: 3min 20s\n"
     ]
    }
   ],
   "source": [
    "%%time\n",
    "setting = {\n",
    "    \"repeat\": 1,\n",
    "    \"k\": [i for i in range(0, 13, 1)],\n",
    "    \"prob\" : True,\n",
    "    \"function\": utils.conditional_likelihood_k,\n",
    "    \"feature_encoding\": cov_encoding,\n",
    "}\n",
    "data_a2 = utils.run_experiment_k_paper(X_test, y_test, clf, NB, nacl, setting)"
   ]
  },
  {
   "cell_type": "code",
   "execution_count": 17,
   "metadata": {},
   "outputs": [
    {
     "data": {
      "text/plain": [
       "<module 'matplotlib.pyplot' from '/home/pasha/Desktop/ucla-lab/missing/gpkit2/lib/python2.7/site-packages/matplotlib/pyplot.pyc'>"
      ]
     },
     "execution_count": 17,
     "metadata": {},
     "output_type": "execute_result"
    },
    {
     "name": "stderr",
     "output_type": "stream",
     "text": [
      "/home/pasha/Desktop/ucla-lab/missing/gpkit2/lib/python2.7/site-packages/matplotlib/figure.py:2299: UserWarning: This figure includes Axes that are not compatible with tight_layout, so results might be incorrect.\n",
      "  warnings.warn(\"This figure includes Axes that are not compatible \"\n"
     ]
    },
    {
     "data": {
      "image/png": "[encoded data removed]",
      "text/plain": [
       "<Figure size 576x432 with 1 Axes>"
      ]
     },
     "metadata": {
      "needs_background": "light"
     },
     "output_type": "display_data"
    }
   ],
   "source": [
    "setting = {\n",
    "    \"show\": [\"min\", \"mean\", \"median\", \"ours\"],\n",
    "    \"saveAs\": \"../results/covType_cross.pdf\",\n",
    "    \"title\": \"CovType\",\n",
    "    \"Ylabel\": \"Cross Entropy\"\n",
    "}\n",
    "utils.plot_results_paper(data_a2, setting)"
   ]
  },
  {
   "cell_type": "code",
   "execution_count": 18,
   "metadata": {},
   "outputs": [
    {
     "name": "stdout",
     "output_type": "stream",
     "text": [
      "Using following function: \n",
      "<function <lambda> at 0x7f7e74d2cb18>\n",
      "Possible features to remove: 12\n",
      "K = 0\n",
      "\t R = 0\n",
      "K = 1\n",
      "\t R = 0\n",
      "K = 2\n",
      "\t R = 0\n",
      "K = 3\n",
      "\t R = 0\n",
      "K = 4\n",
      "\t R = 0\n",
      "K = 5\n",
      "\t R = 0\n",
      "K = 6\n",
      "\t R = 0\n",
      "K = 7\n",
      "\t R = 0\n",
      "K = 8\n",
      "\t R = 0\n",
      "K = 9\n",
      "\t R = 0\n",
      "K = 10\n",
      "\t R = 0\n",
      "K = 11\n",
      "\t R = 0\n",
      "K = 12\n",
      "\t R = 0\n",
      "CPU times: user 4min 11s, sys: 37.4 s, total: 4min 48s\n",
      "Wall time: 3min 57s\n"
     ]
    }
   ],
   "source": [
    "%%time\n",
    "from sklearn.metrics import f1_score \n",
    "\n",
    "accuracy = lambda x,y: np.mean(x == y)\n",
    "f1 = lambda x,y: f1_score(x,y.flatten(), average = \"weighted\")\n",
    "\n",
    "setting = {\n",
    "    \"repeat\": 1,\n",
    "    \"k\": [i for i in range(0, 13, 1)],\n",
    "    \"prob\" : False,\n",
    "    \"function\": f1,\n",
    "    \"feature_encoding\": cov_encoding,\n",
    "}\n",
    "data_a3 = utils.run_experiment_k_paper(X_test, y_test, clf, NB, nacl, setting)"
   ]
  },
  {
   "cell_type": "code",
   "execution_count": 19,
   "metadata": {},
   "outputs": [
    {
     "data": {
      "text/plain": [
       "<module 'matplotlib.pyplot' from '/home/pasha/Desktop/ucla-lab/missing/gpkit2/lib/python2.7/site-packages/matplotlib/pyplot.pyc'>"
      ]
     },
     "execution_count": 19,
     "metadata": {},
     "output_type": "execute_result"
    },
    {
     "data": {
      "image/png": "[encoded data removed]",
      "text/plain": [
       "<Figure size 576x432 with 1 Axes>"
      ]
     },
     "metadata": {
      "needs_background": "light"
     },
     "output_type": "display_data"
    }
   ],
   "source": [
    "setting = {\n",
    "    \"show\": [\"min\", \"ours\", \"mean\", \"median\"],\n",
    "    \"saveAs\": \"../results/covtype_accuracy.pdf\",\n",
    "    \"title\": \"CovType\",\n",
    "    \"Ylabel\": \"F1\"\n",
    "}\n",
    "utils.plot_results_paper(data_a3, setting)"
   ]
  },
  {
   "cell_type": "code",
   "execution_count": 20,
   "metadata": {},
   "outputs": [],
   "source": [
    "utils.save(\"../results/data_covtype_result_cross.pickle\", data_a2)\n",
    "utils.save(\"../results/data_covtype_result_accuracy.pickle\", data_a3)"
   ]
  }
 ],
 "metadata": {
  "kernelspec": {
   "display_name": "py2",
   "language": "python",
   "name": "py2"
  },
  "language_info": {
   "codemirror_mode": {
    "name": "ipython",
    "version": 2
   },
   "file_extension": ".py",
   "mimetype": "text/x-python",
   "name": "python",
   "nbconvert_exporter": "python",
   "pygments_lexer": "ipython2",
   "version": "2.7.15rc1"
  }
 },
 "nbformat": 4,
 "nbformat_minor": 2
}
