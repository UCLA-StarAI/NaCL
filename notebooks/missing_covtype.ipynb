{
 "cells": [
  {
   "cell_type": "code",
   "execution_count": 1,
   "metadata": {},
   "outputs": [],
   "source": [
    "import math\n",
    "import matplotlib.pyplot as plt \n",
    "import numpy as np\n",
    "from sklearn.linear_model import LogisticRegression\n",
    "from sklearn.naive_bayes import BernoulliNB, MultinomialNB\n",
    "\n",
    "import sys\n",
    "\n",
    "sys.path.append(\"../src/\")\n",
    "sys.setrecursionlimit(2000000)\n",
    "\n",
    "import utils\n",
    "from NaCL import NaCLK"
   ]
  },
  {
   "cell_type": "code",
   "execution_count": 2,
   "metadata": {},
   "outputs": [],
   "source": [
    "cov_encoding = [[0, 1, 2, 3, 4, 5],[10, 11, 12, 13, 14, 15],[20, 21, 22, 23, 24, 25],[30, 31, 32, 33, 34, 35],[40, 41, 42, 43, 44, 45],[50, 51, 52, 53, 54, 55],[60, 61, 62, 63, 64, 65],[70, 71, 72, 73, 74, 75],[80, 81, 82, 83, 84, 85],[90, 91, 92, 93, 94, 95],[60, 61, 62, 63],\n",
    "                [64, 65, 66, 67, 68, 69, 70, 71, 72, 73, 74, 75, 76, 77, 78, 79, 80, 81, 82, 83, 84, 85, 86, 87, 88, 89, 90, 91, 92, 93, 94, 95, 96, 97, 98, 99, 100, 101, 102, 103]]"
   ]
  },
  {
   "cell_type": "markdown",
   "metadata": {},
   "source": [
    "# Loading Data"
   ]
  },
  {
   "cell_type": "code",
   "execution_count": 3,
   "metadata": {},
   "outputs": [],
   "source": [
    "X_train, y_train, X_test, y_test = utils.load_dataset(\"../data/covtype\", \"covtype\")"
   ]
  },
  {
   "cell_type": "code",
   "execution_count": 4,
   "metadata": {},
   "outputs": [
    {
     "data": {
      "text/plain": [
       "(464808, 104)"
      ]
     },
     "execution_count": 4,
     "metadata": {},
     "output_type": "execute_result"
    }
   ],
   "source": [
    "X_train.shape"
   ]
  },
  {
   "cell_type": "code",
   "execution_count": 5,
   "metadata": {},
   "outputs": [
    {
     "data": {
      "text/plain": [
       "array([0, 1, 2, 3, 4, 5, 6])"
      ]
     },
     "execution_count": 5,
     "metadata": {},
     "output_type": "execute_result"
    }
   ],
   "source": [
    "np.unique(y_train)"
   ]
  },
  {
   "cell_type": "code",
   "execution_count": 6,
   "metadata": {},
   "outputs": [
    {
     "name": "stdout",
     "output_type": "stream",
     "text": [
      "0.6335497667854254\n",
      "0.6345846026746528\n",
      "CPU times: user 3.68 s, sys: 1.35 s, total: 5.03 s\n",
      "Wall time: 2.62 s\n"
     ]
    }
   ],
   "source": [
    "%%time\n",
    "from sklearn.naive_bayes import BernoulliNB\n",
    "NB = BernoulliNB().fit(X_train, y_train)\n",
    "print(np.average(NB.predict(X_train) == y_train))\n",
    "print(np.average(NB.predict(X_test) == y_test))"
   ]
  },
  {
   "cell_type": "markdown",
   "metadata": {},
   "source": [
    "### Training Logistic Regression"
   ]
  },
  {
   "cell_type": "code",
   "execution_count": null,
   "metadata": {},
   "outputs": [
    {
     "name": "stderr",
     "output_type": "stream",
     "text": [
      "[Parallel(n_jobs=6)]: Using backend LokyBackend with 6 concurrent workers.\n"
     ]
    }
   ],
   "source": [
    "%%time\n",
    "clf = LogisticRegression(solver='lbfgs', \n",
    "    verbose=True, \n",
    "    C = 1,\n",
    "    multi_class='multinomial',\n",
    "    max_iter=400, n_jobs=6).fit(X_train, y_train)"
   ]
  },
  {
   "cell_type": "code",
   "execution_count": null,
   "metadata": {},
   "outputs": [],
   "source": [
    "print (np.average(clf.predict(X_test) == y_test), np.average(clf.predict(X_train) == y_train))"
   ]
  },
  {
   "cell_type": "markdown",
   "metadata": {},
   "source": [
    "### Learning NaCL model"
   ]
  },
  {
   "cell_type": "code",
   "execution_count": null,
   "metadata": {},
   "outputs": [],
   "source": [
    "%%time\n",
    "have_mosek = True # set False if you don't have mosek installed\n",
    "\n",
    "nacl = NaCLK().setup(clf, X_train, y_train) # , c = 1e-10)\n",
    "if have_mosek:\n",
    "    nacl.solve(solver = 'mosek_conif', verbose=1) \n",
    "else:\n",
    "    nacl.solve(solver = 'cvxopt', verbose=1) "
   ]
  },
  {
   "cell_type": "code",
   "execution_count": null,
   "metadata": {},
   "outputs": [],
   "source": [
    "# Sanity Check to compare NaCL results with Logistic Regression\n",
    "assert(1.0 == np.average( nacl.predict(X_test)  == clf.predict(X_test )))\n",
    "assert(1.0 == np.average( nacl.predict(X_train) == clf.predict(X_train)))"
   ]
  },
  {
   "cell_type": "markdown",
   "metadata": {},
   "source": [
    "## Generating Table for Paper"
   ]
  },
  {
   "cell_type": "code",
   "execution_count": null,
   "metadata": {},
   "outputs": [],
   "source": [
    "N = len(cov_encoding)"
   ]
  },
  {
   "cell_type": "code",
   "execution_count": null,
   "metadata": {},
   "outputs": [],
   "source": [
    "%%time\n",
    "from sklearn.metrics import f1_score \n",
    "\n",
    "accuracy = lambda x,y: np.mean(x == y)\n",
    "f1 = lambda x,y: f1_score(x,y.flatten(), average = \"weighted\")\n",
    "\n",
    "setting = {\n",
    "    \"repeat\": 3, #10\n",
    "    \"k\": [i for i in range(0, N, int(0.2*N))],\n",
    "    \"feature_encoding\": cov_encoding,\n",
    "    \"prob\" : False,# True\n",
    "    \"function\": f1 #utils.conditional_likelihood_k\n",
    "}\n",
    "data_for_table = utils.run_experiment_k_paper(X_test, y_test, clf, NB, nacl, setting)"
   ]
  },
  {
   "cell_type": "code",
   "execution_count": null,
   "metadata": {},
   "outputs": [],
   "source": [
    "row = []\n",
    "for method in [\"min\", \"max\", \"mean\", \"median\",\"ours\"]:\n",
    "    temp = []\n",
    "    for k in range(1, 5):\n",
    "        m = np.mean(100*data_for_table[method][k])\n",
    "        s = np.std(100*data_for_table[method][k])\n",
    "        temp.append(np.round(m, 1))\n",
    "        print(method, k*20, m, s)\n",
    "        \n",
    "    row.append(temp)\n",
    "\n",
    "row = np.array(row)  \n",
    "bold = np.argmax(row, axis=0)\n",
    "print(\"\")\n",
    "for i in range(len(row)):\n",
    "    line = \"\"\n",
    "    for j in range(len(row[i])):\n",
    "        if bold[j] == i or row[i][j] == row[bold[j]][j]:\n",
    "            line += \"\\\\textbf{\" + str(row[i][j]) + \"}\"\n",
    "        else:\n",
    "            line += str(row[i][j])\n",
    "        \n",
    "        line += \" & \"\n",
    "    print(line)\n",
    "    "
   ]
  },
  {
   "cell_type": "markdown",
   "metadata": {},
   "source": [
    "## Generating Missing Data Charts"
   ]
  },
  {
   "cell_type": "code",
   "execution_count": null,
   "metadata": {},
   "outputs": [],
   "source": [
    "X_test.shape"
   ]
  },
  {
   "cell_type": "code",
   "execution_count": null,
   "metadata": {},
   "outputs": [],
   "source": [
    "%%time\n",
    "setting = {\n",
    "    \"repeat\": 1,\n",
    "    \"k\": [i for i in range(0, 13, 1)],\n",
    "    \"prob\" : True,\n",
    "    \"function\": utils.conditional_likelihood_k,\n",
    "    \"feature_encoding\": cov_encoding,\n",
    "}\n",
    "data_a2 = utils.run_experiment_k_paper(X_test, y_test, clf, NB, nacl, setting)"
   ]
  },
  {
   "cell_type": "code",
   "execution_count": null,
   "metadata": {},
   "outputs": [],
   "source": [
    "setting = {\n",
    "    \"show\": [\"min\", \"mean\", \"median\", \"ours\"],\n",
    "    \"saveAs\": \"../results/covType_cross.pdf\",\n",
    "    \"title\": \"CovType\",\n",
    "    \"Ylabel\": \"Cross Entropy\"\n",
    "}\n",
    "utils.plot_results_paper(data_a2, setting)"
   ]
  },
  {
   "cell_type": "code",
   "execution_count": null,
   "metadata": {},
   "outputs": [],
   "source": [
    "%%time\n",
    "from sklearn.metrics import f1_score \n",
    "\n",
    "accuracy = lambda x,y: np.mean(x == y)\n",
    "f1 = lambda x,y: f1_score(x,y.flatten(), average = \"weighted\")\n",
    "\n",
    "setting = {\n",
    "    \"repeat\": 1,\n",
    "    \"k\": [i for i in range(0, 13, 1)],\n",
    "    \"prob\" : False,\n",
    "    \"function\": f1,\n",
    "    \"feature_encoding\": cov_encoding,\n",
    "}\n",
    "data_a3 = utils.run_experiment_k_paper(X_test, y_test, clf, NB, nacl, setting)"
   ]
  },
  {
   "cell_type": "code",
   "execution_count": null,
   "metadata": {},
   "outputs": [],
   "source": [
    "setting = {\n",
    "    \"show\": [\"min\", \"ours\", \"mean\", \"median\"],\n",
    "    \"saveAs\": \"../results/covtype_accuracy.pdf\",\n",
    "    \"title\": \"CovType\",\n",
    "    \"Ylabel\": \"F1\"\n",
    "}\n",
    "utils.plot_results_paper(data_a3, setting)"
   ]
  },
  {
   "cell_type": "code",
   "execution_count": null,
   "metadata": {},
   "outputs": [],
   "source": [
    "utils.save(\"../results/data_covtype_result_cross.pickle\", data_a2)\n",
    "utils.save(\"../results/data_covtype_result_accuracy.pickle\", data_a3)"
   ]
  }
 ],
 "metadata": {
  "kernelspec": {
   "display_name": "Python 3",
   "language": "python",
   "name": "python3"
  },
  "language_info": {
   "codemirror_mode": {
    "name": "ipython",
    "version": 3
   },
   "file_extension": ".py",
   "mimetype": "text/x-python",
   "name": "python",
   "nbconvert_exporter": "python",
   "pygments_lexer": "ipython3",
   "version": "3.6.9"
  }
 },
 "nbformat": 4,
 "nbformat_minor": 2
}
